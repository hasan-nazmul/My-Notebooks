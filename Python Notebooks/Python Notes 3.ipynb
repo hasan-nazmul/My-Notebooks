{
 "cells": [
  {
   "cell_type": "markdown",
   "metadata": {},
   "source": [
    "**Iterations in python**"
   ]
  },
  {
   "cell_type": "code",
   "execution_count": 20,
   "metadata": {},
   "outputs": [
    {
     "name": "stdout",
     "output_type": "stream",
     "text": [
      "0\n",
      "1\n",
      "2\n",
      "3\n",
      "4\n"
     ]
    }
   ],
   "source": [
    "for i in range(5):\n",
    "    print(i)"
   ]
  },
  {
   "cell_type": "markdown",
   "metadata": {},
   "source": [
    "`for` loops in python are easy. Iteration happens as much value that will be put inside range function. Now, if we want to start the iterartion other than 0, we can do something like below:"
   ]
  },
  {
   "cell_type": "code",
   "execution_count": 21,
   "metadata": {},
   "outputs": [
    {
     "name": "stdout",
     "output_type": "stream",
     "text": [
      "12\n",
      "13\n",
      "14\n",
      "15\n",
      "16\n"
     ]
    }
   ],
   "source": [
    "for i in range(12, 17):\n",
    "    print(i)"
   ]
  },
  {
   "cell_type": "markdown",
   "metadata": {},
   "source": [
    "Now, if we don't want to increment our iteration by `1`. We can do the following."
   ]
  },
  {
   "cell_type": "code",
   "execution_count": 22,
   "metadata": {},
   "outputs": [
    {
     "name": "stdout",
     "output_type": "stream",
     "text": [
      "23\n",
      "25\n",
      "27\n",
      "29\n"
     ]
    }
   ],
   "source": [
    "for i in range(23, 30, 2):\n",
    "    print(i)"
   ]
  },
  {
   "cell_type": "markdown",
   "metadata": {},
   "source": [
    "We can also run loops backwards."
   ]
  },
  {
   "cell_type": "code",
   "execution_count": 23,
   "metadata": {},
   "outputs": [
    {
     "name": "stdout",
     "output_type": "stream",
     "text": [
      "10\n",
      "5\n",
      "0\n",
      "-5\n",
      "-10\n",
      "-15\n",
      "-20\n",
      "-25\n"
     ]
    }
   ],
   "source": [
    "for i in range(10, -30, -5):\n",
    "    print(i)"
   ]
  },
  {
   "cell_type": "markdown",
   "metadata": {},
   "source": [
    "So basically using `range(start, end, increment/decrement)` we can use iteration as the way we want. Below code sums-up all the numbers from `1` to `n`."
   ]
  },
  {
   "cell_type": "code",
   "execution_count": 24,
   "metadata": {},
   "outputs": [
    {
     "name": "stdout",
     "output_type": "stream",
     "text": [
      "Summation from 1 to 100 is 5050\n"
     ]
    }
   ],
   "source": [
    "n = 100\n",
    "sum = 0;\n",
    "\n",
    "for num in range(1, n+1):\n",
    "    sum += num\n",
    "\n",
    "print(\"Summation from 1 to\", n, \"is\", sum)"
   ]
  },
  {
   "cell_type": "markdown",
   "metadata": {},
   "source": [
    "Below code sums-up all the even numbers from `1` to `n`."
   ]
  },
  {
   "cell_type": "code",
   "execution_count": 25,
   "metadata": {},
   "outputs": [
    {
     "name": "stdout",
     "output_type": "stream",
     "text": [
      "Summation of all the even numbers from 1 to 100 is 2550\n"
     ]
    }
   ],
   "source": [
    "n = 100\n",
    "even_sum = 0;\n",
    "\n",
    "for num in range(0, n+1, 2):\n",
    "    even_sum += num\n",
    "\n",
    "print(\"Summation of all the even numbers from 1 to\", n, \"is\", even_sum)"
   ]
  },
  {
   "cell_type": "markdown",
   "metadata": {},
   "source": [
    "**`while` loop in python**"
   ]
  },
  {
   "cell_type": "code",
   "execution_count": 1,
   "metadata": {},
   "outputs": [
    {
     "name": "stdout",
     "output_type": "stream",
     "text": [
      "0\n",
      "1\n",
      "2\n",
      "3\n",
      "4\n",
      "5\n"
     ]
    }
   ],
   "source": [
    "i = 0\n",
    "\n",
    "while i <= 5:\n",
    "    print(i)\n",
    "    i += 1"
   ]
  },
  {
   "cell_type": "markdown",
   "metadata": {},
   "source": [
    "Remember that, increment `++` or decrement `--` opertors doesn't exist in python."
   ]
  },
  {
   "cell_type": "markdown",
   "metadata": {},
   "source": [
    "**Drawing with `turtle` in python**"
   ]
  },
  {
   "cell_type": "code",
   "execution_count": 1,
   "metadata": {},
   "outputs": [],
   "source": [
    "import turtle\n",
    "\n",
    "turtle.shape(\"turtle\")\n",
    "\n",
    "turtle.forward(100)\n",
    "\n",
    "turtle.exitonclick()"
   ]
  },
  {
   "cell_type": "markdown",
   "metadata": {},
   "source": [
    "Draws a line of length 100px."
   ]
  },
  {
   "cell_type": "code",
   "execution_count": 3,
   "metadata": {},
   "outputs": [],
   "source": [
    "import turtle\n",
    "\n",
    "turtle.shape(\"turtle\")\n",
    "\n",
    "turtle.forward(100) # goes 100px forward\n",
    "\n",
    "turtle.left(90) # turns 90 degrees to the left\n",
    "\n",
    "turtle.forward(100) # goes 100px forward\n",
    "\n",
    "turtle.exitonclick()"
   ]
  },
  {
   "cell_type": "markdown",
   "metadata": {},
   "source": [
    "Now let's draw a square using `turtle`."
   ]
  },
  {
   "cell_type": "code",
   "execution_count": 5,
   "metadata": {},
   "outputs": [],
   "source": [
    "import turtle\n",
    "\n",
    "turtle.shape(\"turtle\")\n",
    "\n",
    "for i in range(4):\n",
    "    turtle.forward(100) # goes 100px forward\n",
    "    turtle.left(90) # turns 90 degrees to the left\n",
    "\n",
    "turtle.exitonclick()"
   ]
  },
  {
   "cell_type": "markdown",
   "metadata": {},
   "source": [
    "We can draw a triangle by going forward 100px and turning 120 degrees towards left, 3 times."
   ]
  },
  {
   "cell_type": "code",
   "execution_count": 7,
   "metadata": {},
   "outputs": [],
   "source": [
    "import turtle\n",
    "\n",
    "turtle.shape(\"turtle\")\n",
    "\n",
    "for i in range(3):\n",
    "    turtle.forward(100) # goes 100px forward\n",
    "    turtle.left(120) # turns 120 degrees to the left\n",
    "\n",
    "turtle.exitonclick()"
   ]
  },
  {
   "cell_type": "markdown",
   "metadata": {},
   "source": [
    "We can use nested loops to make more interesting patterns. Let's draw a pattern, where a square is drawn, `36` times. Each time it will be turned `left` to `10` degrees after a square is drawn."
   ]
  },
  {
   "cell_type": "code",
   "execution_count": 9,
   "metadata": {},
   "outputs": [],
   "source": [
    "import turtle\n",
    "\n",
    "turtle.shape(\"turtle\")\n",
    "\n",
    "for i in range(36):\n",
    "    for j in range(4):\n",
    "        turtle.forward(100)\n",
    "        turtle.left(90)\n",
    "    turtle.left(10)\n",
    "\n",
    "turtle.exitonclick()"
   ]
  },
  {
   "cell_type": "markdown",
   "metadata": {},
   "source": [
    "We can also make one pattern where each time we draw a triangle."
   ]
  },
  {
   "cell_type": "code",
   "execution_count": 11,
   "metadata": {},
   "outputs": [],
   "source": [
    "import turtle\n",
    "\n",
    "turtle.shape(\"turtle\")\n",
    "\n",
    "for i in range(36):\n",
    "    for i in range(3):\n",
    "        turtle.forward(100) # goes 100px forward\n",
    "        turtle.left(120) # turns 120 degrees to the left\n",
    "    turtle.left(10)\n",
    "\n",
    "turtle.exitonclick()"
   ]
  },
  {
   "cell_type": "markdown",
   "metadata": {},
   "source": [
    "**`random` number generation in python**"
   ]
  },
  {
   "cell_type": "code",
   "execution_count": 13,
   "metadata": {},
   "outputs": [
    {
     "name": "stdout",
     "output_type": "stream",
     "text": [
      "23\n"
     ]
    }
   ],
   "source": [
    "import random\n",
    "\n",
    "r = random.randint(10, 50)  # picks a random number in between 10 and 50\n",
    "\n",
    "print(r)"
   ]
  },
  {
   "cell_type": "markdown",
   "metadata": {},
   "source": [
    "We can draw something cool in `turtle` using `random` numbers. If we generate new coordinates each time and print a dot in the newly generated coordinate, it's going to look like stars."
   ]
  },
  {
   "cell_type": "code",
   "execution_count": 15,
   "metadata": {},
   "outputs": [],
   "source": [
    "import random\n",
    "import turtle\n",
    "\n",
    "t = turtle\n",
    "\n",
    "for i in range(100):\n",
    "    x = random.randint(-400, 400)\n",
    "    y = random.randint(-400, 400)\n",
    "    t.setposition(x, y)\n",
    "    t.dot()\n",
    "\n",
    "t.exitonclick()"
   ]
  },
  {
   "cell_type": "markdown",
   "metadata": {},
   "source": [
    "Lines are also getting drawn. Now if we don't want that, we can use `penup()` method."
   ]
  },
  {
   "cell_type": "code",
   "execution_count": 17,
   "metadata": {},
   "outputs": [],
   "source": [
    "import random\n",
    "import turtle\n",
    "\n",
    "t = turtle\n",
    "\n",
    "t.penup()\n",
    "\n",
    "for i in range(100):\n",
    "    x = random.randint(-400, 400)\n",
    "    y = random.randint(-400, 400)\n",
    "    t.setposition(x, y)\n",
    "    t.dot()\n",
    "\n",
    "t.exitonclick()"
   ]
  }
 ],
 "metadata": {
  "kernelspec": {
   "display_name": "base",
   "language": "python",
   "name": "python3"
  },
  "language_info": {
   "codemirror_mode": {
    "name": "ipython",
    "version": 3
   },
   "file_extension": ".py",
   "mimetype": "text/x-python",
   "name": "python",
   "nbconvert_exporter": "python",
   "pygments_lexer": "ipython3",
   "version": "3.12.4"
  }
 },
 "nbformat": 4,
 "nbformat_minor": 2
}
