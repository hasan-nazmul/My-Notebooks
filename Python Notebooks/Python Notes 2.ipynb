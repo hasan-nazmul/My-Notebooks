{
 "cells": [
  {
   "cell_type": "markdown",
   "metadata": {},
   "source": [
    ">**Conditional Logics in Python.**"
   ]
  },
  {
   "cell_type": "code",
   "execution_count": 14,
   "metadata": {},
   "outputs": [
    {
     "name": "stdout",
     "output_type": "stream",
     "text": [
      "20 is greater than 10\n"
     ]
    }
   ],
   "source": [
    "a = 10\n",
    "b = 20\n",
    "\n",
    "if a > b:\n",
    "    print(a, \"is greater than\", b)\n",
    "\n",
    "else:\n",
    "    print(b, \"is greater than\", a)"
   ]
  },
  {
   "cell_type": "markdown",
   "metadata": {},
   "source": [
    "`if-else` statements in Python are so simple. No additional syntax is needed. Below code checks, if the given year is a Leap-Year or not, using nested `if-else` statements."
   ]
  },
  {
   "cell_type": "code",
   "execution_count": 15,
   "metadata": {},
   "outputs": [
    {
     "name": "stdout",
     "output_type": "stream",
     "text": [
      "2024 is a Leap-Year.\n"
     ]
    }
   ],
   "source": [
    "year = 2024\n",
    "\n",
    "if year % 4 == 0:\n",
    "    if year % 100 == 0:\n",
    "        if year % 400 == 0:\n",
    "            \"\"\"\n",
    "            Will execute only if \n",
    "            year % 4 results 0 and,\n",
    "            year % 100 results 0 and,\n",
    "            year % 400 results 0.\n",
    "            \"\"\"\n",
    "            print(year, \"is a Leap-Year.\")  \n",
    "        \n",
    "        else:\n",
    "            \"\"\"\n",
    "            Will execute only if \n",
    "            year % 4 results 0 and,\n",
    "            year % 100 results 0 and,\n",
    "            year % 400 doesn't result 0.\n",
    "            \"\"\"\n",
    "            print(year, \"isn't a Leap-Year.\")\n",
    "    \n",
    "    else:\n",
    "        \"\"\"\n",
    "        Will execute only if \n",
    "        year % 4 results 0 and,\n",
    "        year % 100 doesn't result 0.\n",
    "        \"\"\"\n",
    "        print(year, \"is a Leap-Year.\")\n",
    "\n",
    "else:\n",
    "    \"\"\"\n",
    "    Will execute only if \n",
    "    year % 4 doesn't result 0.\n",
    "    \"\"\"\n",
    "    print(year, \"isn't a Leap-Year.\")"
   ]
  },
  {
   "cell_type": "markdown",
   "metadata": {},
   "source": [
    "_One should be careful about indentations_, as Python syntaxes don't have brackets, using _one tab_ space for _each block_ is enough. We also could've done this using `if-elif-else` statements."
   ]
  },
  {
   "cell_type": "code",
   "execution_count": 16,
   "metadata": {},
   "outputs": [
    {
     "name": "stdout",
     "output_type": "stream",
     "text": [
      "2024 is a Leap-Year.\n"
     ]
    }
   ],
   "source": [
    "year = 2024\n",
    "\n",
    "if year % 400 == 0:\n",
    "    \"\"\"\n",
    "    Will execute only if \n",
    "    year % 400 results 0.\n",
    "    \"\"\"\n",
    "    print(year, \"is a Leap-Year.\")\n",
    "\n",
    "elif year % 100 == 0:\n",
    "    \"\"\"\n",
    "    Will execute only if \n",
    "    year % 400 doesn't result 0 and,\n",
    "    year % 100 results 0.\n",
    "    \"\"\"\n",
    "    print(year, \"isn't a Leap-Year.\")\n",
    "\n",
    "elif year % 4 == 0:\n",
    "    \"\"\"\n",
    "    Will execute only if \n",
    "    year % 400 doesn't result 0 and,\n",
    "    year % 100 doesn't result 0 and,\n",
    "    year % 4 results 0.\n",
    "    \"\"\"\n",
    "    print(year, \"is a Leap-Year.\")\n",
    "\n",
    "else:\n",
    "    \"\"\"\n",
    "    Will execute only if \n",
    "    year % 400 doesn't result 0 and,\n",
    "    year % 100 doesn't result 0 and,\n",
    "    year % 4 doesn't result 0.\n",
    "    \"\"\"\n",
    "    print(year, \"isn't a Leap-Year.\")\n"
   ]
  },
  {
   "cell_type": "markdown",
   "metadata": {},
   "source": [
    ">**Logical Operators example in Python.**"
   ]
  },
  {
   "cell_type": "code",
   "execution_count": 17,
   "metadata": {},
   "outputs": [
    {
     "name": "stdout",
     "output_type": "stream",
     "text": [
      "10 is not equal to 20\n",
      "10 is not greater equal to 20\n"
     ]
    }
   ],
   "source": [
    "a = 10\n",
    "b = 20\n",
    "\n",
    "if a is b: # Similar to a == 10\n",
    "    print(a, \"is equal to\", b)\n",
    "\n",
    "if a is not b: # Similar to a != 20\n",
    "    print(a, \"is not equal to\", b)\n",
    "\n",
    "if a >= b:\n",
    "    print(a, \"is greater equal to\", b)\n",
    "\n",
    "if not a >= b:\n",
    "    print(a, \"is not greater equal to\", b)"
   ]
  },
  {
   "cell_type": "markdown",
   "metadata": {},
   "source": [
    ">**Relational Operators example in Python.**"
   ]
  },
  {
   "cell_type": "markdown",
   "metadata": {},
   "source": [
    "`and`, `or`, `not` are the basic relational operators in Python. They are used to _concatanate_ multiple logics and making-up _complex boolean expressions_."
   ]
  },
  {
   "cell_type": "code",
   "execution_count": 18,
   "metadata": {},
   "outputs": [
    {
     "name": "stdout",
     "output_type": "stream",
     "text": [
      "2024 is a Leap-Year\n"
     ]
    }
   ],
   "source": [
    "year = 2024\n",
    "\n",
    "if year % 100 != 0 and year % 4 == 0:\n",
    "    print(year, \"is a Leap-Year\")\n",
    "\n",
    "elif year % 100 == 0 and year % 400 == 0:\n",
    "    print(year, \"is a Leap-Year\")\n",
    "\n",
    "else:\n",
    "    print(year, \"isn't a Leap-Year\")"
   ]
  },
  {
   "cell_type": "markdown",
   "metadata": {},
   "source": [
    "We could've written this code like below also:"
   ]
  },
  {
   "cell_type": "code",
   "execution_count": 19,
   "metadata": {},
   "outputs": [
    {
     "name": "stdout",
     "output_type": "stream",
     "text": [
      "2024 is a Leap-Year\n"
     ]
    }
   ],
   "source": [
    "year = 2024\n",
    "\n",
    "logic1 = year % 100 != 0\n",
    "logic2 = year % 4 == 0\n",
    "logic3 = year % 400 == 0\n",
    "\n",
    "if (logic1 and logic2) or ((not logic1) and logic3):\n",
    "    print(year, \"is a Leap-Year\")\n",
    "\n",
    "else:\n",
    "    print(year, \"isn't a Leap-Year\")"
   ]
  },
  {
   "cell_type": "markdown",
   "metadata": {},
   "source": [
    ">**Triangle type determiner program.**"
   ]
  },
  {
   "cell_type": "code",
   "execution_count": 21,
   "metadata": {},
   "outputs": [
    {
     "name": "stdout",
     "output_type": "stream",
     "text": [
      "Isosceles Triangle\n"
     ]
    }
   ],
   "source": [
    "side1 = int (input())   # 10\n",
    "side2 = int (input())   # 12\n",
    "side3 = int (input())   # 10\n",
    "\n",
    "if side1 is side2 is side3:\n",
    "    print(\"Equilateral Triangle\")\n",
    "\n",
    "elif (side1 is side2) or (side2 is side3) or (side1 is side3):\n",
    "    print(\"Isosceles Triangle\")\n",
    "\n",
    "else:\n",
    "    print(\"Scalene Triangle\")"
   ]
  },
  {
   "cell_type": "markdown",
   "metadata": {},
   "source": [
    ">**The following program prints, if its possible to form a triangle with given sides or not.**"
   ]
  },
  {
   "cell_type": "code",
   "execution_count": 22,
   "metadata": {},
   "outputs": [
    {
     "name": "stdout",
     "output_type": "stream",
     "text": [
      "Will not form a triangle.\n"
     ]
    }
   ],
   "source": [
    "side1 = 10\n",
    "side2 = 5\n",
    "side3 = 5\n",
    "\n",
    "if side1+side2 > side3 and side1+side3 > side2 and side2+side3 > side1:\n",
    "    print(\"Will form a triangle.\")\n",
    "\n",
    "else:\n",
    "    print(\"Will not form a triangle.\")"
   ]
  }
 ],
 "metadata": {
  "kernelspec": {
   "display_name": "base",
   "language": "python",
   "name": "python3"
  },
  "language_info": {
   "codemirror_mode": {
    "name": "ipython",
    "version": 3
   },
   "file_extension": ".py",
   "mimetype": "text/x-python",
   "name": "python",
   "nbconvert_exporter": "python",
   "pygments_lexer": "ipython3",
   "version": "3.12.4"
  }
 },
 "nbformat": 4,
 "nbformat_minor": 2
}
