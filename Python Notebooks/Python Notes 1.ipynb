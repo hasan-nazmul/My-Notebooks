{
 "cells": [
  {
   "cell_type": "markdown",
   "metadata": {},
   "source": [
    ">**Printing operations in Python.**"
   ]
  },
  {
   "cell_type": "code",
   "execution_count": 1,
   "metadata": {},
   "outputs": [
    {
     "name": "stdout",
     "output_type": "stream",
     "text": [
      "Hello World\n"
     ]
    }
   ],
   "source": [
    "print('Hello World')"
   ]
  },
  {
   "cell_type": "markdown",
   "metadata": {},
   "source": [
    "Python prints a _newline, by default_. Below example shows multiline printing operation."
   ]
  },
  {
   "cell_type": "code",
   "execution_count": 2,
   "metadata": {},
   "outputs": [
    {
     "name": "stdout",
     "output_type": "stream",
     "text": [
      "Hello World\n",
      "Hello People\n"
     ]
    }
   ],
   "source": [
    "print('Hello World')\n",
    "print('Hello People')"
   ]
  },
  {
   "cell_type": "markdown",
   "metadata": {},
   "source": [
    "To avoid printing _newline_, `end` parameter can be used like below."
   ]
  },
  {
   "cell_type": "code",
   "execution_count": 3,
   "metadata": {},
   "outputs": [
    {
     "name": "stdout",
     "output_type": "stream",
     "text": [
      "Hello World Hello People\n"
     ]
    }
   ],
   "source": [
    "print('Hello World', end = ' ')\n",
    "print('Hello People')"
   ]
  },
  {
   "cell_type": "markdown",
   "metadata": {},
   "source": [
    "`end` parameter can be used to print something _in between 2 printing operations_."
   ]
  },
  {
   "cell_type": "code",
   "execution_count": 4,
   "metadata": {},
   "outputs": [
    {
     "name": "stdout",
     "output_type": "stream",
     "text": [
      "1st print operation. In between two printing operations. 2nd printing operation.\n"
     ]
    }
   ],
   "source": [
    "print('1st print operation.', end = ' In between two printing operations. ')\n",
    "print('2nd printing operation.')"
   ]
  },
  {
   "cell_type": "markdown",
   "metadata": {},
   "source": [
    ">**Variables in Python.**"
   ]
  },
  {
   "cell_type": "code",
   "execution_count": 5,
   "metadata": {},
   "outputs": [
    {
     "name": "stdout",
     "output_type": "stream",
     "text": [
      "Name: Mr. Roudolph Lewis\n",
      "Age: 63 yrs\n",
      "Height: 5.5 ft\n",
      "Male: True\n"
     ]
    }
   ],
   "source": [
    "name = 'Mr. Roudolph Lewis'\n",
    "age = 63\n",
    "height = 5.5\n",
    "isMale = True\n",
    "\n",
    "print('Name:', name)\n",
    "print('Age:', age, 'yrs')\n",
    "print('Height:', height, 'ft')\n",
    "print('Male:', isMale)"
   ]
  },
  {
   "cell_type": "markdown",
   "metadata": {},
   "source": [
    "These are the basic data-types in Python. `name` variable has been used to store _string_ value `'Mr. Roudolph Lewis'`, `age` variable has been used to store _integer_ value `63`, `height` variable has been used to store _float_ value `5.5` and lastly, `isMale` variable has been used to store _boolean_ value `True`."
   ]
  },
  {
   "cell_type": "markdown",
   "metadata": {},
   "source": [
    "_Strings_ are collection of characters, written in between quotation marks. Single `''` or double `\"\"` quotation, either can be used. _Integers_ are just _integer_ numbers. _Floats_ are numbers having values after decimal point. And _booleans_ are just `True`/`False`."
   ]
  },
  {
   "cell_type": "markdown",
   "metadata": {},
   "source": [
    "We can name our variables just the way we want. But we have to keep in mind that we cannot start our variable names with numbers, such that: `1name`, `1age2` or `12`. These are examples of _invalid variable naming_. Rather we can use numbers or digits at the middle or at the end, like: `name1`, `heig1t2` or `a1b2c3` are _totally valid variable names_. "
   ]
  },
  {
   "cell_type": "markdown",
   "metadata": {},
   "source": [
    "We should also remember that we cannot use _keywords_ or _basic operators_ in our variable names. `a*b`, `for`, `if`, `def`, `new` or `name/` are some _invalid variable names_ as these names causes confusion."
   ]
  },
  {
   "cell_type": "markdown",
   "metadata": {},
   "source": [
    ">**Comments in Python.**"
   ]
  },
  {
   "cell_type": "code",
   "execution_count": 6,
   "metadata": {},
   "outputs": [
    {
     "name": "stdout",
     "output_type": "stream",
     "text": [
      "Hello World\n"
     ]
    }
   ],
   "source": [
    "# This is a single-line comment in python\n",
    "print('Hello World')"
   ]
  },
  {
   "cell_type": "code",
   "execution_count": 7,
   "metadata": {},
   "outputs": [
    {
     "name": "stdout",
     "output_type": "stream",
     "text": [
      "Hello World\n"
     ]
    }
   ],
   "source": [
    "\"\"\"\n",
    "This is a multiline comment in python.\n",
    "It can span multiple lines.\n",
    "\"\"\"\n",
    "print('Hello World')"
   ]
  },
  {
   "cell_type": "markdown",
   "metadata": {},
   "source": [
    ">**Type-conversions in Python.**"
   ]
  },
  {
   "cell_type": "code",
   "execution_count": 8,
   "metadata": {},
   "outputs": [
    {
     "name": "stdout",
     "output_type": "stream",
     "text": [
      "<class 'str'>\n"
     ]
    }
   ],
   "source": [
    "name = 'Donald Trump'\n",
    "print(type(name))   # Prints the data-type, the variable is containing"
   ]
  },
  {
   "cell_type": "markdown",
   "metadata": {},
   "source": [
    "We often convert data-types of variable in Python. _String_ to _integer_, _integer_ to _string_ or _float_ to _string_ etc."
   ]
  },
  {
   "cell_type": "code",
   "execution_count": 9,
   "metadata": {},
   "outputs": [
    {
     "name": "stdout",
     "output_type": "stream",
     "text": [
      "<class 'str'>\n",
      "<class 'int'>\n"
     ]
    }
   ],
   "source": [
    "value_in_string = '13'\n",
    "print(type(value_in_string))\n",
    "value_in_int = int(value_in_string)   # converted from string to int\n",
    "print(type(value_in_int))"
   ]
  },
  {
   "cell_type": "code",
   "execution_count": 10,
   "metadata": {},
   "outputs": [
    {
     "name": "stdout",
     "output_type": "stream",
     "text": [
      "<class 'str'>\n",
      "<class 'float'>\n"
     ]
    }
   ],
   "source": [
    "value_in_string = '55.56'\n",
    "print(type(value_in_string))\n",
    "value_in_float = float(value_in_string) # converted from string to float\n",
    "print(type(value_in_float))"
   ]
  },
  {
   "cell_type": "code",
   "execution_count": 11,
   "metadata": {},
   "outputs": [
    {
     "name": "stdout",
     "output_type": "stream",
     "text": [
      "<class 'str'>\n",
      "<class 'bool'>\n"
     ]
    }
   ],
   "source": [
    "value_in_string = 'False'\n",
    "print(type(value_in_string))\n",
    "value_in_bool = bool(value_in_string)   # converted from string to boolean\n",
    "print(type(value_in_bool))"
   ]
  },
  {
   "cell_type": "code",
   "execution_count": 12,
   "metadata": {},
   "outputs": [
    {
     "name": "stdout",
     "output_type": "stream",
     "text": [
      "<class 'int'>\n",
      "<class 'str'>\n",
      "<class 'float'>\n",
      "<class 'str'>\n",
      "<class 'bool'>\n",
      "<class 'str'>\n"
     ]
    }
   ],
   "source": [
    "value_in_int = 15\n",
    "print(type(value_in_int))\n",
    "value_in_string = str(value_in_int) # converted from int to string\n",
    "print(type(value_in_string))\n",
    "\n",
    "value_in_float = 3.141568\n",
    "print(type(value_in_float))\n",
    "value_in_string = str(value_in_float) # converted from float to string\n",
    "print(type(value_in_string))\n",
    "\n",
    "value_in_bool = True\n",
    "print(type(value_in_bool))\n",
    "value_in_string = str(value_in_bool) # converted from bool to string\n",
    "print(type(value_in_string))"
   ]
  },
  {
   "cell_type": "markdown",
   "metadata": {},
   "source": [
    ">**Input operations in Python.**"
   ]
  },
  {
   "cell_type": "code",
   "execution_count": 20,
   "metadata": {},
   "outputs": [
    {
     "name": "stdout",
     "output_type": "stream",
     "text": [
      "Hello Joe\n"
     ]
    }
   ],
   "source": [
    "name = input()  # Joe\n",
    "print('Hello', name)"
   ]
  },
  {
   "cell_type": "markdown",
   "metadata": {},
   "source": [
    "Here, the code asks for a data from the user and greets him with a _hello_. We can take inputs from user, and _store_ it in a _variable_. And then, variables can be used as our convenience. Now, if we want to print a message for the user, before input, awaring him what he should give as input, we can do as following:"
   ]
  },
  {
   "cell_type": "code",
   "execution_count": 21,
   "metadata": {},
   "outputs": [
    {
     "name": "stdout",
     "output_type": "stream",
     "text": [
      "Hello Joe\n"
     ]
    }
   ],
   "source": [
    "name = input('Please enter your name:')\n",
    "print('Hello', name)"
   ]
  },
  {
   "cell_type": "markdown",
   "metadata": {},
   "source": [
    "Now when we are going to run the code, `Please enter your name: ` message will be printed and than input for name will be taken."
   ]
  },
  {
   "cell_type": "code",
   "execution_count": 22,
   "metadata": {},
   "outputs": [
    {
     "name": "stdout",
     "output_type": "stream",
     "text": [
      "Your name: Roudolph Lewis\n",
      "Your age: 63 yrs\n",
      "Your height: 5.9 ft\n"
     ]
    }
   ],
   "source": [
    "name = input('Please enter your name:')\n",
    "age = input('Please enter your age:')\n",
    "height = input('Please enter your height:')\n",
    "\n",
    "print('Your name:', name)\n",
    "print('Your age:', age, 'yrs')\n",
    "print('Your height:', height, 'ft')"
   ]
  },
  {
   "cell_type": "markdown",
   "metadata": {},
   "source": [
    ">**Operators in Python.**"
   ]
  },
  {
   "cell_type": "code",
   "execution_count": 16,
   "metadata": {},
   "outputs": [
    {
     "name": "stdout",
     "output_type": "stream",
     "text": [
      "Summation: 96\n",
      "Subtraction: 72\n",
      "Multiplication: 1008\n",
      "Division: 7.0\n",
      "Modulo: 0\n"
     ]
    }
   ],
   "source": [
    "a = 84\n",
    "b = 12\n",
    "\n",
    "print('Summation:', a + b)\n",
    "print('Subtraction:', a - b)\n",
    "print('Multiplication:', a * b)\n",
    "print('Division:', a / b)\n",
    "print('Modulo:', a % b)"
   ]
  },
  {
   "cell_type": "markdown",
   "metadata": {},
   "source": [
    "`+` operator is used to perform _summation_ between two numbers, `-` operator is used to perform _subtraction_ between two numbers, `*` operator is used to perform _multiplication_ between two numbers, `/` operator is used to perform _division_ between two numbers and lastly, `%` operator is used to print _modular operation_."
   ]
  },
  {
   "cell_type": "markdown",
   "metadata": {},
   "source": [
    "Now let's try these _operators with inputs_."
   ]
  },
  {
   "cell_type": "code",
   "execution_count": 24,
   "metadata": {},
   "outputs": [
    {
     "name": "stdout",
     "output_type": "stream",
     "text": [
      "Summation of 10 and 12 is: 1012\n"
     ]
    }
   ],
   "source": [
    "a = input()\n",
    "b = input()\n",
    "\n",
    "sum = a+b\n",
    "\n",
    "print('Summation of', a, 'and', b, 'is:', sum)"
   ]
  },
  {
   "cell_type": "markdown",
   "metadata": {},
   "source": [
    "Something is wrong! Summation of `10` and `12` _cannot be_ `1012`. Let's try printing the `type`s of `a` and `b` variable."
   ]
  },
  {
   "cell_type": "code",
   "execution_count": 25,
   "metadata": {},
   "outputs": [
    {
     "name": "stdout",
     "output_type": "stream",
     "text": [
      "<class 'str'>\n",
      "<class 'str'>\n"
     ]
    }
   ],
   "source": [
    "a = input()\n",
    "b = input()\n",
    "\n",
    "print(type(a))\n",
    "print(type(b))"
   ]
  },
  {
   "cell_type": "markdown",
   "metadata": {},
   "source": [
    "So here is the issue, when we take some sort of inputs, Python by default takes input as _strings_. But we can easily _convert_ the `type`s and _perform operations_ as our convenience. "
   ]
  },
  {
   "cell_type": "code",
   "execution_count": 26,
   "metadata": {},
   "outputs": [
    {
     "name": "stdout",
     "output_type": "stream",
     "text": [
      "Summation of 10 and 12 is: 22\n"
     ]
    }
   ],
   "source": [
    "a = int (input())   # input string converted into int\n",
    "b = int (input())   # input string converted into int\n",
    "\n",
    "sum = a+b\n",
    "\n",
    "print('Summation of', a, 'and', b, 'is:', sum)"
   ]
  },
  {
   "cell_type": "markdown",
   "metadata": {},
   "source": [
    "Now it's working as it should."
   ]
  },
  {
   "cell_type": "code",
   "execution_count": null,
   "metadata": {},
   "outputs": [
    {
     "name": "stdout",
     "output_type": "stream",
     "text": [
      "1024\n"
     ]
    }
   ],
   "source": [
    "# Exponentiation Operator\n",
    "a = 2\n",
    "e = 10\n",
    "\n",
    "value = a ** e  # a to the power e\n",
    "\n",
    "print(value)"
   ]
  },
  {
   "cell_type": "markdown",
   "metadata": {},
   "source": [
    "Python follows conventional operator precedence so _it's a good practice to use enough brackets to solve complex equations_."
   ]
  },
  {
   "cell_type": "code",
   "execution_count": null,
   "metadata": {},
   "outputs": [
    {
     "name": "stdout",
     "output_type": "stream",
     "text": [
      "11\n",
      "25\n"
     ]
    }
   ],
   "source": [
    "a = 2\n",
    "b = 3\n",
    "\n",
    "c = a + b ** 2  # finds b to the power 2 first then performs summation with a\n",
    "d = (a + b) ** 2    # finds a + b first then performs (a + b) to the power 2\n",
    "\n",
    "print(c)\n",
    "print(d)"
   ]
  },
  {
   "cell_type": "markdown",
   "metadata": {},
   "source": [
    ">**Code to calculate BMI.**"
   ]
  },
  {
   "cell_type": "code",
   "execution_count": 1,
   "metadata": {},
   "outputs": [
    {
     "name": "stdout",
     "output_type": "stream",
     "text": [
      "Your BMI is 2.229 kg per ft square\n"
     ]
    }
   ],
   "source": [
    "weight = float (input('Please enter your weight in kgs:'))\n",
    "height = float (input('Please enter your height in ft:'))\n",
    "\n",
    "bmi = weight / (height ** 2)\n",
    "\n",
    "# Prints bmi in 3 digits after decimal value\n",
    "print('Your BMI is', round(bmi, 3), 'kg per ft square') "
   ]
  }
 ],
 "metadata": {
  "kernelspec": {
   "display_name": "Python 3",
   "language": "python",
   "name": "python3"
  },
  "language_info": {
   "codemirror_mode": {
    "name": "ipython",
    "version": 3
   },
   "file_extension": ".py",
   "mimetype": "text/x-python",
   "name": "python",
   "nbconvert_exporter": "python",
   "pygments_lexer": "ipython3",
   "version": "3.12.4"
  }
 },
 "nbformat": 4,
 "nbformat_minor": 2
}
