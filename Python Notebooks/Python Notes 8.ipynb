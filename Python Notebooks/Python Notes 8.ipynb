{
 "cells": [
  {
   "cell_type": "markdown",
   "metadata": {},
   "source": [
    "> `csv` module in Python"
   ]
  },
  {
   "cell_type": "markdown",
   "metadata": {},
   "source": [
    "Reading from a `csv` file."
   ]
  },
  {
   "cell_type": "code",
   "execution_count": 1,
   "metadata": {},
   "outputs": [],
   "source": [
    "import csv"
   ]
  },
  {
   "cell_type": "code",
   "execution_count": 2,
   "metadata": {},
   "outputs": [
    {
     "name": "stdout",
     "output_type": "stream",
     "text": [
      "['first_name', 'last_name', 'email']\n",
      "['John', 'Doe', 'john-doe@bogusemail.com']\n",
      "['Mary', 'Smith-Robinson', 'maryjacobs@bogusemail.com']\n",
      "['Dave', 'Smith', 'davesmith@bogusemail.com']\n",
      "['Jane', 'Stuart', 'janestuart@bogusemail.com']\n",
      "['Tom', 'Wright', 'tomwright@bogusemail.com']\n",
      "['Steve', 'Robinson', 'steverobinson@bogusemail.com']\n",
      "['Nicole', 'Jacobs', 'nicolejacobs@bogusemail.com']\n",
      "['Jane', 'Wright', 'janewright@bogusemail.com']\n",
      "['Jane', 'Doe', 'janedoe@bogusemail.com']\n",
      "['Kurt', 'Wright', 'kurtwright@bogusemail.com']\n",
      "['Kurt', 'Robinson', 'kurtrobinson@bogusemail.com']\n",
      "['Jane', 'Jenkins', 'janejenkins@bogusemail.com']\n",
      "['Neil', 'Robinson', 'neilrobinson@bogusemail.com']\n",
      "['Tom', 'Patterson', 'tompatterson@bogusemail.com']\n",
      "['Sam', 'Jenkins', 'samjenkins@bogusemail.com']\n",
      "['Steve', 'Stuart', 'stevestuart@bogusemail.com']\n",
      "['Maggie', 'Patterson', 'maggiepatterson@bogusemail.com']\n",
      "['Maggie', 'Stuart', 'maggiestuart@bogusemail.com']\n",
      "['Jane', 'Doe', 'janedoe@bogusemail.com']\n",
      "['Steve', 'Patterson', 'stevepatterson@bogusemail.com']\n",
      "['Dave', 'Smith', 'davesmith@bogusemail.com']\n",
      "['Sam', 'Wilks', 'samwilks@bogusemail.com']\n",
      "['Kurt', 'Jefferson', 'kurtjefferson@bogusemail.com']\n",
      "['Sam', 'Stuart', 'samstuart@bogusemail.com']\n",
      "['Jane', 'Stuart', 'janestuart@bogusemail.com']\n",
      "['Dave', 'Davis', 'davedavis@bogusemail.com']\n",
      "['Sam', 'Patterson', 'sampatterson@bogusemail.com']\n",
      "['Tom', 'Jefferson', 'tomjefferson@bogusemail.com']\n",
      "['Jane', 'Stuart', 'janestuart@bogusemail.com']\n",
      "['Maggie', 'Jefferson', 'maggiejefferson@bogusemail.com']\n",
      "['Mary', 'Wilks', 'marywilks@bogusemail.com']\n",
      "['Neil', 'Patterson', 'neilpatterson@bogusemail.com']\n",
      "['Corey', 'Davis', 'coreydavis@bogusemail.com']\n",
      "['Steve', 'Jacobs', 'stevejacobs@bogusemail.com']\n",
      "['Jane', 'Jenkins', 'janejenkins@bogusemail.com']\n",
      "['John', 'Jacobs', 'johnjacobs@bogusemail.com']\n",
      "['Neil', 'Smith', 'neilsmith@bogusemail.com']\n",
      "['Corey', 'Wilks', 'coreywilks@bogusemail.com']\n",
      "['Corey', 'Smith', 'coreysmith@bogusemail.com']\n",
      "['Mary', 'Patterson', 'marypatterson@bogusemail.com']\n",
      "['Jane', 'Stuart', 'janestuart@bogusemail.com']\n",
      "['Travis', 'Arnold', 'travisarnold@bogusemail.com']\n",
      "['John', 'Robinson', 'johnrobinson@bogusemail.com']\n",
      "['Travis', 'Arnold', 'travisarnold@bogusemail.com']\n"
     ]
    }
   ],
   "source": [
    "with open('names.csv', 'r') as csv_file:\n",
    "    csv_reader = csv.reader(csv_file)\n",
    "    \n",
    "    for line in csv_reader:\n",
    "        print(line)"
   ]
  },
  {
   "cell_type": "markdown",
   "metadata": {},
   "source": [
    "Writing into a `csv` file and using `-` as `delimeter`."
   ]
  },
  {
   "cell_type": "code",
   "execution_count": 3,
   "metadata": {},
   "outputs": [],
   "source": [
    "with open('names.csv', 'r') as csv_file:\n",
    "    csv_reader = csv.reader(csv_file)\n",
    "    \n",
    "    with open('new_names.csv', 'w', newline='') as new_file:\n",
    "        csv_writer = csv.writer(new_file, delimiter='\\t')\n",
    "    \n",
    "        for line in csv_reader:\n",
    "            csv_writer.writerow(line)"
   ]
  },
  {
   "cell_type": "code",
   "execution_count": 4,
   "metadata": {},
   "outputs": [
    {
     "name": "stdout",
     "output_type": "stream",
     "text": [
      "['first_name\\tlast_name\\temail']\n",
      "['John\\tDoe\\tjohn-doe@bogusemail.com']\n",
      "['Mary\\tSmith-Robinson\\tmaryjacobs@bogusemail.com']\n",
      "['Dave\\tSmith\\tdavesmith@bogusemail.com']\n",
      "['Jane\\tStuart\\tjanestuart@bogusemail.com']\n",
      "['Tom\\tWright\\ttomwright@bogusemail.com']\n",
      "['Steve\\tRobinson\\tsteverobinson@bogusemail.com']\n",
      "['Nicole\\tJacobs\\tnicolejacobs@bogusemail.com']\n",
      "['Jane\\tWright\\tjanewright@bogusemail.com']\n",
      "['Jane\\tDoe\\tjanedoe@bogusemail.com']\n",
      "['Kurt\\tWright\\tkurtwright@bogusemail.com']\n",
      "['Kurt\\tRobinson\\tkurtrobinson@bogusemail.com']\n",
      "['Jane\\tJenkins\\tjanejenkins@bogusemail.com']\n",
      "['Neil\\tRobinson\\tneilrobinson@bogusemail.com']\n",
      "['Tom\\tPatterson\\ttompatterson@bogusemail.com']\n",
      "['Sam\\tJenkins\\tsamjenkins@bogusemail.com']\n",
      "['Steve\\tStuart\\tstevestuart@bogusemail.com']\n",
      "['Maggie\\tPatterson\\tmaggiepatterson@bogusemail.com']\n",
      "['Maggie\\tStuart\\tmaggiestuart@bogusemail.com']\n",
      "['Jane\\tDoe\\tjanedoe@bogusemail.com']\n",
      "['Steve\\tPatterson\\tstevepatterson@bogusemail.com']\n",
      "['Dave\\tSmith\\tdavesmith@bogusemail.com']\n",
      "['Sam\\tWilks\\tsamwilks@bogusemail.com']\n",
      "['Kurt\\tJefferson\\tkurtjefferson@bogusemail.com']\n",
      "['Sam\\tStuart\\tsamstuart@bogusemail.com']\n",
      "['Jane\\tStuart\\tjanestuart@bogusemail.com']\n",
      "['Dave\\tDavis\\tdavedavis@bogusemail.com']\n",
      "['Sam\\tPatterson\\tsampatterson@bogusemail.com']\n",
      "['Tom\\tJefferson\\ttomjefferson@bogusemail.com']\n",
      "['Jane\\tStuart\\tjanestuart@bogusemail.com']\n",
      "['Maggie\\tJefferson\\tmaggiejefferson@bogusemail.com']\n",
      "['Mary\\tWilks\\tmarywilks@bogusemail.com']\n",
      "['Neil\\tPatterson\\tneilpatterson@bogusemail.com']\n",
      "['Corey\\tDavis\\tcoreydavis@bogusemail.com']\n",
      "['Steve\\tJacobs\\tstevejacobs@bogusemail.com']\n",
      "['Jane\\tJenkins\\tjanejenkins@bogusemail.com']\n",
      "['John\\tJacobs\\tjohnjacobs@bogusemail.com']\n",
      "['Neil\\tSmith\\tneilsmith@bogusemail.com']\n",
      "['Corey\\tWilks\\tcoreywilks@bogusemail.com']\n",
      "['Corey\\tSmith\\tcoreysmith@bogusemail.com']\n",
      "['Mary\\tPatterson\\tmarypatterson@bogusemail.com']\n",
      "['Jane\\tStuart\\tjanestuart@bogusemail.com']\n",
      "['Travis\\tArnold\\ttravisarnold@bogusemail.com']\n",
      "['John\\tRobinson\\tjohnrobinson@bogusemail.com']\n",
      "['Travis\\tArnold\\ttravisarnold@bogusemail.com']\n"
     ]
    }
   ],
   "source": [
    "with open('new_names.csv', 'r') as csv_file:\n",
    "    csv_reader = csv.reader(csv_file, delimiter=' ')\n",
    "\n",
    "    for line in csv_reader:\n",
    "        print(line)"
   ]
  },
  {
   "cell_type": "markdown",
   "metadata": {},
   "source": [
    "> `DictReader` and `DictWriter` in Python."
   ]
  },
  {
   "cell_type": "code",
   "execution_count": 7,
   "metadata": {},
   "outputs": [],
   "source": [
    "with open('names.csv', 'r') as csv_file:\n",
    "    csv_reader = csv.DictReader(csv_file)\n",
    "\n",
    "    # for line in csv_reader:\n",
    "    #     print(line)\n",
    "\n",
    "    with open('new_names.csv', 'w', newline='') as new_file:\n",
    "        field_names = ['first_name', 'last_name', 'email']\n",
    "\n",
    "        csv_writer = csv.DictWriter(new_file, fieldnames=field_names, delimiter='\\t')\n",
    "\n",
    "        csv_writer.writeheader()\n",
    "\n",
    "        for line in csv_reader:\n",
    "            csv_writer.writerow(line)"
   ]
  },
  {
   "cell_type": "markdown",
   "metadata": {},
   "source": [
    "`del line['field_name']` for removing a field."
   ]
  },
  {
   "cell_type": "code",
   "execution_count": 9,
   "metadata": {},
   "outputs": [],
   "source": [
    "with open('names.csv', 'r') as csv_file:\n",
    "    csv_reader = csv.DictReader(csv_file)\n",
    "\n",
    "    # for line in csv_reader:\n",
    "    #     print(line)\n",
    "\n",
    "    with open('new_names.csv', 'w', newline='') as new_file:\n",
    "        field_names = ['first_name', 'last_name']\n",
    "\n",
    "        csv_writer = csv.DictWriter(new_file, fieldnames=field_names, delimiter='\\t')\n",
    "\n",
    "        csv_writer.writeheader()\n",
    "\n",
    "        for line in csv_reader:\n",
    "            del line['email']\n",
    "            csv_writer.writerow(line)"
   ]
  }
 ],
 "metadata": {
  "kernelspec": {
   "display_name": "base",
   "language": "python",
   "name": "python3"
  },
  "language_info": {
   "codemirror_mode": {
    "name": "ipython",
    "version": 3
   },
   "file_extension": ".py",
   "mimetype": "text/x-python",
   "name": "python",
   "nbconvert_exporter": "python",
   "pygments_lexer": "ipython3",
   "version": "3.12.4"
  }
 },
 "nbformat": 4,
 "nbformat_minor": 2
}
