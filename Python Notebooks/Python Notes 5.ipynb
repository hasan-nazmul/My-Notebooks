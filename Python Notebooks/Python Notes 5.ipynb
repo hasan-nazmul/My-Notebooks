{
 "cells": [
  {
   "cell_type": "markdown",
   "metadata": {},
   "source": [
    ">String methods in Python"
   ]
  },
  {
   "cell_type": "code",
   "execution_count": 2,
   "metadata": {},
   "outputs": [
    {
     "name": "stdout",
     "output_type": "stream",
     "text": [
      "Bangladesh\n"
     ]
    }
   ],
   "source": [
    "country = \"Bangladesh\"\n",
    "\n",
    "print(country)"
   ]
  },
  {
   "cell_type": "markdown",
   "metadata": {},
   "source": [
    "_Strings_ are _collection_ of _characters_, within single `''` or double `\"\"` quotation. We can _address_ each _character_ of the _string_ by its _index_ but _cannot_ _modify_ it."
   ]
  },
  {
   "cell_type": "code",
   "execution_count": 4,
   "metadata": {},
   "outputs": [
    {
     "name": "stdout",
     "output_type": "stream",
     "text": [
      "g\n",
      "e\n"
     ]
    }
   ],
   "source": [
    "country = \"Bangladesh\"\n",
    "\n",
    "print(country[3])\n",
    "print(country[7])"
   ]
  },
  {
   "cell_type": "markdown",
   "metadata": {},
   "source": [
    "`len` method _returns_ the _size_ of the _string_."
   ]
  },
  {
   "cell_type": "code",
   "execution_count": 5,
   "metadata": {},
   "outputs": [
    {
     "name": "stdout",
     "output_type": "stream",
     "text": [
      "33\n",
      "Bangladesh is a riverine country.\n"
     ]
    }
   ],
   "source": [
    "country = \"Bangladesh is a riverine country.\"\n",
    "\n",
    "print(len(country))\n",
    "print(country)"
   ]
  },
  {
   "cell_type": "markdown",
   "metadata": {},
   "source": [
    "If we want to print _qutation_ marks _inside_ a _string_, we can use `'\\'` character everytime we want to _print_ quotation."
   ]
  },
  {
   "cell_type": "code",
   "execution_count": 7,
   "metadata": {},
   "outputs": [
    {
     "name": "stdout",
     "output_type": "stream",
     "text": [
      "Joe said, \"It's a lovely sunny day\".\n"
     ]
    }
   ],
   "source": [
    "text = \"Joe said, \\\"It\\'s a lovely sunny day\\\".\"\n",
    "\n",
    "print(text)"
   ]
  },
  {
   "cell_type": "markdown",
   "metadata": {},
   "source": [
    "We can use `+` and `*` operators to _concatenate_ and _multiply_ strings."
   ]
  },
  {
   "cell_type": "code",
   "execution_count": 8,
   "metadata": {},
   "outputs": [
    {
     "name": "stdout",
     "output_type": "stream",
     "text": [
      "abcde\n",
      "abcabcabc\n"
     ]
    }
   ],
   "source": [
    "s1 = \"abc\"\n",
    "s2 = \"de\"\n",
    "\n",
    "s = s1 + s2\n",
    "print(s)\n",
    "\n",
    "s = s1 * 3\n",
    "print(s)"
   ]
  },
  {
   "cell_type": "markdown",
   "metadata": {},
   "source": [
    "`find` method finds the _index_ of the searched _substring_ into the string."
   ]
  },
  {
   "cell_type": "code",
   "execution_count": 9,
   "metadata": {},
   "outputs": [
    {
     "name": "stdout",
     "output_type": "stream",
     "text": [
      "16\n",
      "-1\n"
     ]
    }
   ],
   "source": [
    "country = \"Bangladesh is a riverine country.\"\n",
    "\n",
    "p = country.find(\"river\")\n",
    "\n",
    "print(p)\n",
    "\n",
    "p = country.find(\"Country\")\n",
    "\n",
    "print(p)"
   ]
  },
  {
   "cell_type": "markdown",
   "metadata": {},
   "source": [
    "We can see that `\"river\"` substring has been _found_ at index `16` but `\"Country\"` _isn't found_ because _there is_ `\"country\"` but _no_ `\"Country\"` in the string. So `-1` has been _printed_."
   ]
  },
  {
   "cell_type": "markdown",
   "metadata": {},
   "source": [
    "`replace` method _replaces_ all the _substring_ found in the string one needs to _change_ to some another _desired_ substring."
   ]
  },
  {
   "cell_type": "code",
   "execution_count": 10,
   "metadata": {},
   "outputs": [
    {
     "name": "stdout",
     "output_type": "stream",
     "text": [
      "Hasbulla, a lively and adventurous person, loves exploring new places. Hasbulla's enthusiasm for life is contagious, making Hasbulla a joy to be around.\n"
     ]
    }
   ],
   "source": [
    "text = \"Joe, a lively and adventurous person, loves exploring new places. Joe\\'s enthusiasm for life is contagious, making Joe a joy to be around.\"\n",
    "\n",
    "changed_text = text.replace(\"Joe\", \"Hasbulla\")\n",
    "\n",
    "print(changed_text)"
   ]
  },
  {
   "cell_type": "markdown",
   "metadata": {},
   "source": [
    "We can _remove_ unnecessary _white-spaces_ using `lstrip`, `rstrip` and `strip` method."
   ]
  },
  {
   "cell_type": "code",
   "execution_count": 16,
   "metadata": {},
   "outputs": [
    {
     "name": "stdout",
     "output_type": "stream",
     "text": [
      "before string. this is a string.     end of string\n"
     ]
    }
   ],
   "source": [
    "text = \"    this is a string.    \"\n",
    "new_text = text.lstrip()\n",
    "print(\"before string.\", new_text, \"end of string\")"
   ]
  },
  {
   "cell_type": "markdown",
   "metadata": {},
   "source": [
    "Only _left_ side _whitespaces_ has been _removed_."
   ]
  },
  {
   "cell_type": "code",
   "execution_count": 17,
   "metadata": {},
   "outputs": [
    {
     "name": "stdout",
     "output_type": "stream",
     "text": [
      "before string.     this is a string. end of string\n"
     ]
    }
   ],
   "source": [
    "text = \"    this is a string.    \"\n",
    "new_text = text.rstrip()\n",
    "print(\"before string.\", new_text, \"end of string\")"
   ]
  },
  {
   "cell_type": "markdown",
   "metadata": {},
   "source": [
    "Only _right_ side _whitespaces_ has been _removed_."
   ]
  },
  {
   "cell_type": "code",
   "execution_count": 18,
   "metadata": {},
   "outputs": [
    {
     "name": "stdout",
     "output_type": "stream",
     "text": [
      "before string. this is a string. end of string\n"
     ]
    }
   ],
   "source": [
    "text = \"    this is a string.    \"\n",
    "new_text = text.strip()\n",
    "print(\"before string.\", new_text, \"end of string\")"
   ]
  },
  {
   "cell_type": "markdown",
   "metadata": {},
   "source": [
    "_Both_ side _whitespaces_ has been _removed_."
   ]
  },
  {
   "cell_type": "markdown",
   "metadata": {},
   "source": [
    "`upper`, `lower` and `capitalize` methods are used to make the string _uppercase_, _lowercase_ and _capitalized_."
   ]
  },
  {
   "cell_type": "code",
   "execution_count": 19,
   "metadata": {},
   "outputs": [
    {
     "name": "stdout",
     "output_type": "stream",
     "text": [
      "BANGLADESH\n",
      "bangladesh\n",
      "Bangladesh\n"
     ]
    }
   ],
   "source": [
    "country = \"BANGLAdesh\"\n",
    "\n",
    "country_upper = country.upper()\n",
    "\n",
    "print(country_upper)\n",
    "\n",
    "country_lower = country.lower()\n",
    "\n",
    "print(country_lower)\n",
    "\n",
    "country_cap = country.capitalize()\n",
    "\n",
    "print(country_cap)"
   ]
  },
  {
   "cell_type": "markdown",
   "metadata": {},
   "source": [
    "`count` method _counts_ how many times a certain _substring_ was _present_ in a string."
   ]
  },
  {
   "cell_type": "code",
   "execution_count": 22,
   "metadata": {},
   "outputs": [
    {
     "name": "stdout",
     "output_type": "stream",
     "text": [
      "\"Paris\" count: 4\n"
     ]
    }
   ],
   "source": [
    "text = \"In the city of Paris, Paris is known for its art, Paris for its fashion, and Paris for its culinary delights.\"\n",
    "\n",
    "cnt = text.count(\"Paris\")\n",
    "\n",
    "print(\"\\\"Paris\\\" count:\", cnt)"
   ]
  },
  {
   "cell_type": "markdown",
   "metadata": {},
   "source": [
    "`startswith` and `endswith` method _checks_ if the string _starts_ and _ends_ with a certain _substring_ or not."
   ]
  },
  {
   "cell_type": "code",
   "execution_count": 23,
   "metadata": {},
   "outputs": [
    {
     "name": "stdout",
     "output_type": "stream",
     "text": [
      "True\n",
      "True\n",
      "False\n",
      "True\n",
      "True\n",
      "False\n"
     ]
    }
   ],
   "source": [
    "text = \"Bangladesh is a riverine country.\"\n",
    "\n",
    "print(text.startswith(\"Ban\"))\n",
    "print(text.startswith(\"Bangla\"))\n",
    "print(text.startswith(\"bangla\"))\n",
    "print(text.endswith(\"country.\"))\n",
    "print(text.endswith(\"try.\"))\n",
    "print(text.endswith(\"country\"))"
   ]
  },
  {
   "cell_type": "markdown",
   "metadata": {},
   "source": [
    "`text` _starts_ with `\"Bangla\"` but _not_ `\"bangla\"`, thatswhy it has returned `False`. And `text` _ends_ with `country.` _not_ `country`."
   ]
  },
  {
   "cell_type": "markdown",
   "metadata": {},
   "source": [
    "Using `join` method can turn a _list_ of _strings_ into a complete _string_."
   ]
  },
  {
   "cell_type": "code",
   "execution_count": 1,
   "metadata": {},
   "outputs": [
    {
     "name": "stdout",
     "output_type": "stream",
     "text": [
      "Bangladesh is riverine country\n"
     ]
    }
   ],
   "source": [
    "words = [\"Bangladesh\", \"is\", \"riverine\", \"country\"]\n",
    "\n",
    "sentance = \" \".join(words)\n",
    "\n",
    "print(sentance)"
   ]
  },
  {
   "cell_type": "code",
   "execution_count": 10,
   "metadata": {},
   "outputs": [
    {
     "name": "stdout",
     "output_type": "stream",
     "text": [
      "Animalia is the group of living things except plants. Some Animal kingdoms are: Chordate, Sponge, Arthropod, Annelid, Cnidaria etc.\n"
     ]
    }
   ],
   "source": [
    "kingdoms = [\"Chordate\", \"Sponge\", \"Arthropod\", \"Annelid\", \"Cnidaria\"]\n",
    "\n",
    "text = \"Animalia is the group of living things except plants. Some Animal kingdoms are: \"\n",
    "\n",
    "text += \", \".join(kingdoms) + \" etc.\"\n",
    "\n",
    "print(text)"
   ]
  },
  {
   "cell_type": "markdown",
   "metadata": {},
   "source": [
    ">Greeting program"
   ]
  },
  {
   "cell_type": "code",
   "execution_count": 9,
   "metadata": {},
   "outputs": [
    {
     "name": "stdout",
     "output_type": "stream",
     "text": [
      "Hello sir, how are you?\n"
     ]
    }
   ],
   "source": [
    "import turtle\n",
    "\n",
    "name = turtle.textinput(\"name\", \"What's your name?\")\n",
    "name = name.lower()\n",
    "if name.startswith(\"mr \") or name.startswith(\"mr. \"):\n",
    "    print(\"Hello sir, how are you?\")\n",
    "elif name.startswith(\"miss \") or name.startswith(\"mrs. \") or name.startswith(\"ms. \"):\n",
    "    print(\"Hello maam, how are you?\")\n",
    "else:\n",
    "    name.capitalize()\n",
    "    print(\"Hi\", name, \"how are you?\")\n",
    "\n",
    "turtle.exitonclick()"
   ]
  },
  {
   "cell_type": "markdown",
   "metadata": {},
   "source": [
    ">Palindrome Checker Program"
   ]
  },
  {
   "cell_type": "code",
   "execution_count": 8,
   "metadata": {},
   "outputs": [
    {
     "name": "stdout",
     "output_type": "stream",
     "text": [
      "racecar is Palindrome.\n"
     ]
    }
   ],
   "source": [
    "text = \"racecar\"\n",
    "\n",
    "rtext = text[::-1]\n",
    "\n",
    "if text == rtext:\n",
    "    print(text, \"is Palindrome.\")\n",
    "\n",
    "else:\n",
    "    print(text, \"isn't Palindrome.\")"
   ]
  }
 ],
 "metadata": {
  "kernelspec": {
   "display_name": "base",
   "language": "python",
   "name": "python3"
  },
  "language_info": {
   "codemirror_mode": {
    "name": "ipython",
    "version": 3
   },
   "file_extension": ".py",
   "mimetype": "text/x-python",
   "name": "python",
   "nbconvert_exporter": "python",
   "pygments_lexer": "ipython3",
   "version": "3.12.4"
  }
 },
 "nbformat": 4,
 "nbformat_minor": 2
}
