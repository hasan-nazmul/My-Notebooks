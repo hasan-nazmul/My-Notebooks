{
 "cells": [
  {
   "cell_type": "markdown",
   "metadata": {},
   "source": [
    ">Lists in Python"
   ]
  },
  {
   "cell_type": "code",
   "execution_count": 115,
   "metadata": {},
   "outputs": [
    {
     "name": "stdout",
     "output_type": "stream",
     "text": [
      "['Bangladesh', 'India', 'Pakistan', 'Bhutan', 'Nepal', 'Sri Lanka', 'Maldives']\n"
     ]
    }
   ],
   "source": [
    "saarc = [\"Bangladesh\", \"India\", \"Pakistan\", \"Bhutan\", \n",
    "         \"Nepal\", \"Sri Lanka\", \"Maldives\"]\n",
    "\n",
    "print(saarc)"
   ]
  },
  {
   "cell_type": "markdown",
   "metadata": {},
   "source": [
    "Lists can be of _any sort of_ data-types."
   ]
  },
  {
   "cell_type": "code",
   "execution_count": 116,
   "metadata": {},
   "outputs": [
    {
     "name": "stdout",
     "output_type": "stream",
     "text": [
      "[56, 43, 12, 67, 37, 79]\n",
      "[5.5, 5.67, 6.1, 4.9, 3.5]\n"
     ]
    }
   ],
   "source": [
    "people = [56, 43, 12, 67, 37, 79]\n",
    "heights = [5.5, 5.67, 6.1, 4.9, 3.5]\n",
    "\n",
    "print(people)\n",
    "print(heights)"
   ]
  },
  {
   "cell_type": "markdown",
   "metadata": {},
   "source": [
    "`len` method can be used to print the _length_ of the list."
   ]
  },
  {
   "cell_type": "code",
   "execution_count": 117,
   "metadata": {},
   "outputs": [
    {
     "name": "stdout",
     "output_type": "stream",
     "text": [
      "6\n"
     ]
    }
   ],
   "source": [
    "li = [56, 43, 12, 67, 37, 79]\n",
    "\n",
    "print(len(li))"
   ]
  },
  {
   "cell_type": "markdown",
   "metadata": {},
   "source": [
    "We can use _indexes_ to _address_ list elements."
   ]
  },
  {
   "cell_type": "code",
   "execution_count": 118,
   "metadata": {},
   "outputs": [
    {
     "name": "stdout",
     "output_type": "stream",
     "text": [
      "[10, 43, 12, 50, 37, 79]\n"
     ]
    }
   ],
   "source": [
    "li = [56, 43, 12, 67, 37, 79]\n",
    "\n",
    "li[0] = 10\n",
    "\n",
    "li[3] = 50\n",
    "\n",
    "print(li)"
   ]
  },
  {
   "cell_type": "markdown",
   "metadata": {},
   "source": [
    "Lists start from `0` _index_. We can use _negative indexes_ to address elements from _backwards_."
   ]
  },
  {
   "cell_type": "code",
   "execution_count": 119,
   "metadata": {},
   "outputs": [
    {
     "name": "stdout",
     "output_type": "stream",
     "text": [
      "[56, 43, 50, 67, 37, 10]\n"
     ]
    }
   ],
   "source": [
    "li = [56, 43, 12, 67, 37, 79]\n",
    "\n",
    "li[-1] = 10\n",
    "\n",
    "li[-4] = 50\n",
    "\n",
    "print(li)"
   ]
  },
  {
   "cell_type": "markdown",
   "metadata": {},
   "source": [
    "We can _look_ for an element `in` the list."
   ]
  },
  {
   "cell_type": "code",
   "execution_count": 120,
   "metadata": {},
   "outputs": [
    {
     "name": "stdout",
     "output_type": "stream",
     "text": [
      "Nepal is a SAARC country\n",
      "Iran isn't a SAARC country\n"
     ]
    }
   ],
   "source": [
    "saarc = [\"Bangladesh\", \"India\", \"Pakistan\", \"Bhutan\", \n",
    "         \"Nepal\", \"Sri Lanka\", \"Maldives\"]\n",
    "\n",
    "country = \"Nepal\"\n",
    "\n",
    "if country in saarc:\n",
    "    print(country, \"is a SAARC country\")\n",
    "\n",
    "else:\n",
    "    print(country, \"isn't a SAARC country\")\n",
    "\n",
    "country = \"Iran\"\n",
    "\n",
    "if country not in saarc:\n",
    "    print(country, \"isn't a SAARC country\")\n",
    "\n",
    "else:\n",
    "    print(country, \"is SAARC country\")"
   ]
  },
  {
   "cell_type": "markdown",
   "metadata": {},
   "source": [
    "`append` _adds_ new element in the list at the _end_."
   ]
  },
  {
   "cell_type": "code",
   "execution_count": 121,
   "metadata": {},
   "outputs": [
    {
     "name": "stdout",
     "output_type": "stream",
     "text": [
      "['Bangladesh', 'India', 'Pakistan', 'Bhutan', 'Nepal', 'Sri Lanka', 'Maldives', 'Afghanistan']\n"
     ]
    }
   ],
   "source": [
    "saarc = [\"Bangladesh\", \"India\", \"Pakistan\", \"Bhutan\", \n",
    "         \"Nepal\", \"Sri Lanka\", \"Maldives\"]\n",
    "\n",
    "country = \"Afghanistan\"\n",
    "\n",
    "saarc.append(country)\n",
    "\n",
    "print(saarc)"
   ]
  },
  {
   "cell_type": "markdown",
   "metadata": {},
   "source": [
    "`sort` method _sorts_ the list."
   ]
  },
  {
   "cell_type": "code",
   "execution_count": 122,
   "metadata": {},
   "outputs": [
    {
     "name": "stdout",
     "output_type": "stream",
     "text": [
      "[12, 37, 43, 56, 67, 79]\n"
     ]
    }
   ],
   "source": [
    "li = [56, 43, 12, 67, 37, 79]\n",
    "\n",
    "li.sort()\n",
    "\n",
    "print(li)"
   ]
  },
  {
   "cell_type": "markdown",
   "metadata": {},
   "source": [
    "`reverse` method _reverses_ the list."
   ]
  },
  {
   "cell_type": "code",
   "execution_count": 123,
   "metadata": {},
   "outputs": [
    {
     "name": "stdout",
     "output_type": "stream",
     "text": [
      "[79, 37, 67, 12, 43, 56]\n"
     ]
    }
   ],
   "source": [
    "li = [56, 43, 12, 67, 37, 79]\n",
    "\n",
    "li.reverse()\n",
    "\n",
    "print(li)"
   ]
  },
  {
   "cell_type": "markdown",
   "metadata": {},
   "source": [
    "`insert` method _inserts_ an element at a _new position_."
   ]
  },
  {
   "cell_type": "code",
   "execution_count": 124,
   "metadata": {},
   "outputs": [
    {
     "name": "stdout",
     "output_type": "stream",
     "text": [
      "['Bangladesh', 'India', 'Pakistan', 'Afghanistan', 'Bhutan', 'Nepal', 'Sri Lanka', 'Maldives']\n"
     ]
    }
   ],
   "source": [
    "saarc = [\"Bangladesh\", \"India\", \"Pakistan\", \"Bhutan\", \n",
    "         \"Nepal\", \"Sri Lanka\", \"Maldives\"]\n",
    "\n",
    "country = \"Afghanistan\"\n",
    "\n",
    "saarc.insert(3, country)\n",
    "\n",
    "print(saarc)"
   ]
  },
  {
   "cell_type": "markdown",
   "metadata": {},
   "source": [
    "`remove` _removes_ an element from the list."
   ]
  },
  {
   "cell_type": "code",
   "execution_count": 125,
   "metadata": {},
   "outputs": [
    {
     "name": "stdout",
     "output_type": "stream",
     "text": [
      "[56, 43, 67, 37, 12, 79, 12]\n"
     ]
    }
   ],
   "source": [
    "li = [56, 43, 12, 67, 37, 12, 79, 12]\n",
    "\n",
    "li.remove(12)\n",
    "\n",
    "print(li)"
   ]
  },
  {
   "cell_type": "markdown",
   "metadata": {},
   "source": [
    "Note that, `12` has been _removed_ from the _first index, where it's found_. Now, if we attempt to _remove_ an element from a list, _and the list doesn't have it_,"
   ]
  },
  {
   "cell_type": "code",
   "execution_count": 126,
   "metadata": {},
   "outputs": [
    {
     "ename": "ValueError",
     "evalue": "list.remove(x): x not in list",
     "output_type": "error",
     "traceback": [
      "\u001b[1;31m---------------------------------------------------------------------------\u001b[0m",
      "\u001b[1;31mValueError\u001b[0m                                Traceback (most recent call last)",
      "Cell \u001b[1;32mIn[126], line 3\u001b[0m\n\u001b[0;32m      1\u001b[0m li \u001b[38;5;241m=\u001b[39m [\u001b[38;5;241m56\u001b[39m, \u001b[38;5;241m43\u001b[39m, \u001b[38;5;241m12\u001b[39m, \u001b[38;5;241m67\u001b[39m, \u001b[38;5;241m37\u001b[39m, \u001b[38;5;241m12\u001b[39m, \u001b[38;5;241m79\u001b[39m, \u001b[38;5;241m12\u001b[39m]\n\u001b[1;32m----> 3\u001b[0m li\u001b[38;5;241m.\u001b[39mremove(\u001b[38;5;241m80\u001b[39m)\n\u001b[0;32m      5\u001b[0m \u001b[38;5;28mprint\u001b[39m(li)\n",
      "\u001b[1;31mValueError\u001b[0m: list.remove(x): x not in list"
     ]
    }
   ],
   "source": [
    "li = [56, 43, 12, 67, 37, 12, 79, 12]\n",
    "\n",
    "li.remove(80)\n",
    "\n",
    "print(li)"
   ]
  },
  {
   "cell_type": "markdown",
   "metadata": {},
   "source": [
    "We should _check_ for the element _before_ we remove it."
   ]
  },
  {
   "cell_type": "code",
   "execution_count": null,
   "metadata": {},
   "outputs": [
    {
     "name": "stdout",
     "output_type": "stream",
     "text": [
      "80 doesn't belong to the list\n"
     ]
    }
   ],
   "source": [
    "li = [56, 43, 12, 67, 37, 12, 79, 12]\n",
    "\n",
    "number = 80\n",
    "\n",
    "if number in li:\n",
    "    li.remove(number)\n",
    "\n",
    "else:\n",
    "    print(number, \"doesn't belong to the list\")"
   ]
  },
  {
   "cell_type": "markdown",
   "metadata": {},
   "source": [
    "`pop` method _removes_ the _last element_ of the list."
   ]
  },
  {
   "cell_type": "code",
   "execution_count": null,
   "metadata": {},
   "outputs": [
    {
     "name": "stdout",
     "output_type": "stream",
     "text": [
      "['mango', 'pineapple', 'jackfruit']\n"
     ]
    }
   ],
   "source": [
    "fruits = [\"mango\", \"pineapple\", \"jackfruit\", \"banana\"]\n",
    "\n",
    "fruits.pop()\n",
    "\n",
    "print(fruits)"
   ]
  },
  {
   "cell_type": "markdown",
   "metadata": {},
   "source": [
    "`count` method _counts_ how many times, any element is _present_ in the list."
   ]
  },
  {
   "cell_type": "code",
   "execution_count": null,
   "metadata": {},
   "outputs": [
    {
     "name": "stdout",
     "output_type": "stream",
     "text": [
      "12 is present 3 times in the list.\n"
     ]
    }
   ],
   "source": [
    "li = [56, 43, 12, 67, 37, 12, 79, 12]\n",
    "\n",
    "number = 12\n",
    "\n",
    "cnt = li.count(number)\n",
    "\n",
    "print(number, \"is present\", cnt, \"times in the list.\")"
   ]
  },
  {
   "cell_type": "markdown",
   "metadata": {},
   "source": [
    "We can perform `+` or `*` operations in Python."
   ]
  },
  {
   "cell_type": "code",
   "execution_count": null,
   "metadata": {},
   "outputs": [
    {
     "name": "stdout",
     "output_type": "stream",
     "text": [
      "[1, 2, 3, 4, 5]\n",
      "[1, 2, 3, 1, 2, 3, 1, 2, 3]\n"
     ]
    }
   ],
   "source": [
    "li1 = [1, 2, 3]\n",
    "li2 = [4, 5]\n",
    "\n",
    "li = li1 + li2  # All the elements of li1 and li2 will be added\n",
    "\n",
    "print(li)\n",
    "\n",
    "li = 3 * li1    # All the elemets of li1 will be added 3 times\n",
    "\n",
    "print(li)"
   ]
  },
  {
   "cell_type": "markdown",
   "metadata": {},
   "source": [
    "`join` method _joins_ all the _strings_ from a list and makes up a _new string_."
   ]
  },
  {
   "cell_type": "code",
   "execution_count": null,
   "metadata": {},
   "outputs": [
    {
     "name": "stdout",
     "output_type": "stream",
     "text": [
      "Bangladesh is a riverine country\n"
     ]
    }
   ],
   "source": [
    "words = [\"Bangladesh\", \"is\", \"a\", \"riverine\", \"country\"]\n",
    "\n",
    "sentance = \" \".join(words)  \n",
    "\"\"\"\n",
    "A new string will be formed where \n",
    "each of the strings of `words` list \n",
    "will be added keeping a space between them.\n",
    "\"\"\"\n",
    "print(sentance)"
   ]
  },
  {
   "cell_type": "markdown",
   "metadata": {},
   "source": [
    ">List comprehensions in Python."
   ]
  },
  {
   "cell_type": "code",
   "execution_count": null,
   "metadata": {},
   "outputs": [
    {
     "name": "stdout",
     "output_type": "stream",
     "text": [
      "[2, 4, 6, 8]\n"
     ]
    }
   ],
   "source": [
    "li = [1, 2, 3, 4]\n",
    "\n",
    "new_li = [2 * i for i in li]\n",
    "\n",
    "print(new_li)"
   ]
  },
  {
   "cell_type": "markdown",
   "metadata": {},
   "source": [
    "Making a new list taking all the _even numbers_ from a list."
   ]
  },
  {
   "cell_type": "code",
   "execution_count": null,
   "metadata": {},
   "outputs": [
    {
     "name": "stdout",
     "output_type": "stream",
     "text": [
      "[56, 12, 12, 12]\n"
     ]
    }
   ],
   "source": [
    "li = [56, 43, 12, 67, 37, 12, 79, 12]\n",
    "\n",
    "even_numbers = [x for x in li if x % 2 == 0]\n",
    "\n",
    "print(even_numbers)"
   ]
  },
  {
   "cell_type": "markdown",
   "metadata": {},
   "source": [
    ">`N` fibonacci numbers printing program."
   ]
  },
  {
   "cell_type": "code",
   "execution_count": null,
   "metadata": {},
   "outputs": [
    {
     "name": "stdout",
     "output_type": "stream",
     "text": [
      "1, 1, 2, 3, 5, 8, 13, 21, 34, 55, "
     ]
    }
   ],
   "source": [
    "N = 10\n",
    "\n",
    "fib = [1, 1]\n",
    "\n",
    "for i in range(2, 51):\n",
    "    fib.append(fib[-1]+fib[-2])\n",
    "\n",
    "for i in range(N):\n",
    "    print(fib[i], end = \", \")"
   ]
  },
  {
   "cell_type": "markdown",
   "metadata": {},
   "source": [
    ">Maximum, minimum number and summation of a list of `n` random numbers."
   ]
  },
  {
   "cell_type": "code",
   "execution_count": 130,
   "metadata": {},
   "outputs": [
    {
     "name": "stdout",
     "output_type": "stream",
     "text": [
      "[3, -1, 4, 10, -6, -4, -1, 0, -10, 10]\n",
      "Maximum number:  10\n",
      "Minimum number:  -10\n",
      "Summation:  5\n"
     ]
    }
   ],
   "source": [
    "import random\n",
    "\n",
    "n = 10\n",
    "\n",
    "rand_list = []\n",
    "\n",
    "for i in range(n):\n",
    "    r = random.randint(-10, 10)\n",
    "    rand_list.append(r)\n",
    "\n",
    "print(rand_list)\n",
    "\n",
    "print(\"Maximum number: \", max(rand_list))\n",
    "print(\"Minimum number: \", min(rand_list))\n",
    "print(\"Summation: \", sum(rand_list))"
   ]
  },
  {
   "cell_type": "markdown",
   "metadata": {},
   "source": [
    ">Random circle drawing program in `turtle`."
   ]
  },
  {
   "cell_type": "code",
   "execution_count": 138,
   "metadata": {},
   "outputs": [],
   "source": [
    "import turtle\n",
    "import random\n",
    "\n",
    "turtle.speed(1)\n",
    "\n",
    "colors = [\"red\", \"yellow\", \"green\", \"cyan\", \"orange\", \"violet\", \"indigo\", \"blue\"]\n",
    "\n",
    "for i in range(5):\n",
    "    r = random.randint(50, 200)\n",
    "    a = 360\n",
    "    c = random.randint(0, len(colors)-1)\n",
    "    x = random.randint(-400, 400)\n",
    "    y = random.randint(-400, 400)\n",
    "    turtle.penup()\n",
    "    turtle.setposition(x, y)\n",
    "    turtle.pendown()\n",
    "    turtle.color(colors[c])\n",
    "    turtle.begin_fill()\n",
    "    turtle.circle(r, a)\n",
    "    turtle.end_fill()\n",
    "\n",
    "turtle.exitonclick()"
   ]
  }
 ],
 "metadata": {
  "kernelspec": {
   "display_name": "base",
   "language": "python",
   "name": "python3"
  },
  "language_info": {
   "codemirror_mode": {
    "name": "ipython",
    "version": 3
   },
   "file_extension": ".py",
   "mimetype": "text/x-python",
   "name": "python",
   "nbconvert_exporter": "python",
   "pygments_lexer": "ipython3",
   "version": "3.12.4"
  }
 },
 "nbformat": 4,
 "nbformat_minor": 2
}
