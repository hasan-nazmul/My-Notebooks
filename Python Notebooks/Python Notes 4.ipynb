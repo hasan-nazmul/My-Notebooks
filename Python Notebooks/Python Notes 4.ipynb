{
 "cells": [
  {
   "cell_type": "markdown",
   "metadata": {},
   "source": [
    ">**Lists in Python.**"
   ]
  },
  {
   "cell_type": "code",
   "execution_count": 1,
   "metadata": {},
   "outputs": [
    {
     "name": "stdout",
     "output_type": "stream",
     "text": [
      "['Bangladesh', 'India', 'Pakistan', 'Bhutan', 'Nepal', 'Sri Lanka', 'Maldives']\n"
     ]
    }
   ],
   "source": [
    "saarc = ['Bangladesh', 'India', 'Pakistan', 'Bhutan', \n",
    "         'Nepal', 'Sri Lanka', 'Maldives']\n",
    "\n",
    "print(saarc)"
   ]
  },
  {
   "cell_type": "markdown",
   "metadata": {},
   "source": [
    "Lists can be of _any sort of_ data-types."
   ]
  },
  {
   "cell_type": "code",
   "execution_count": 116,
   "metadata": {},
   "outputs": [
    {
     "name": "stdout",
     "output_type": "stream",
     "text": [
      "[56, 43, 12, 67, 37, 79]\n",
      "[5.5, 5.67, 6.1, 4.9, 3.5]\n"
     ]
    }
   ],
   "source": [
    "people = [56, 43, 12, 67, 37, 79]\n",
    "heights = [5.5, 5.67, 6.1, 4.9, 3.5]\n",
    "\n",
    "print(people)\n",
    "print(heights)"
   ]
  },
  {
   "cell_type": "markdown",
   "metadata": {},
   "source": [
    "`len` method can be used to print the _length_ of the list."
   ]
  },
  {
   "cell_type": "code",
   "execution_count": 117,
   "metadata": {},
   "outputs": [
    {
     "name": "stdout",
     "output_type": "stream",
     "text": [
      "6\n"
     ]
    }
   ],
   "source": [
    "li = [56, 43, 12, 67, 37, 79]\n",
    "\n",
    "print(len(li))"
   ]
  },
  {
   "cell_type": "markdown",
   "metadata": {},
   "source": [
    "We can use _indexes_ to _address_ list elements."
   ]
  },
  {
   "cell_type": "code",
   "execution_count": 118,
   "metadata": {},
   "outputs": [
    {
     "name": "stdout",
     "output_type": "stream",
     "text": [
      "[10, 43, 12, 50, 37, 79]\n"
     ]
    }
   ],
   "source": [
    "li = [56, 43, 12, 67, 37, 79]\n",
    "\n",
    "li[0] = 10\n",
    "\n",
    "li[3] = 50\n",
    "\n",
    "print(li)"
   ]
  },
  {
   "cell_type": "markdown",
   "metadata": {},
   "source": [
    "Lists start from `0` _index_. We can use _negative indexes_ to address elements from _backwards_."
   ]
  },
  {
   "cell_type": "code",
   "execution_count": 119,
   "metadata": {},
   "outputs": [
    {
     "name": "stdout",
     "output_type": "stream",
     "text": [
      "[56, 43, 50, 67, 37, 10]\n"
     ]
    }
   ],
   "source": [
    "li = [56, 43, 12, 67, 37, 79]\n",
    "\n",
    "li[-1] = 10\n",
    "\n",
    "li[-4] = 50\n",
    "\n",
    "print(li)"
   ]
  },
  {
   "cell_type": "markdown",
   "metadata": {},
   "source": [
    "We can _slice_ any list and _store_ it into another list."
   ]
  },
  {
   "cell_type": "code",
   "execution_count": 1,
   "metadata": {},
   "outputs": [
    {
     "name": "stdout",
     "output_type": "stream",
     "text": [
      "[1, 4, 2, 5, 6, 3, 4]\n",
      "[2, 5, 6]\n"
     ]
    }
   ],
   "source": [
    "li = [1, 4, 2, 5, 6, 3, 4]\n",
    "sliced_li = li[2:5]\n",
    "\n",
    "print(li)\n",
    "print(sliced_li)"
   ]
  },
  {
   "cell_type": "markdown",
   "metadata": {},
   "source": [
    "We can _look_ for an element `in` the list."
   ]
  },
  {
   "cell_type": "code",
   "execution_count": 2,
   "metadata": {},
   "outputs": [
    {
     "name": "stdout",
     "output_type": "stream",
     "text": [
      "Nepal is a SAARC country\n",
      "Iran isn't a SAARC country\n"
     ]
    }
   ],
   "source": [
    "saarc = ['Bangladesh', 'India', 'Pakistan', 'Bhutan', \n",
    "         'Nepal', 'Sri Lanka', 'Maldives']\n",
    "\n",
    "country = 'Nepal'\n",
    "\n",
    "if country in saarc:\n",
    "    print(country, 'is a SAARC country')\n",
    "\n",
    "else:\n",
    "    print(country, 'isn\\'t a SAARC country')\n",
    "\n",
    "country = 'Iran'\n",
    "\n",
    "if country not in saarc:\n",
    "    print(country, 'isn\\'t a SAARC country')\n",
    "\n",
    "else:\n",
    "    print(country, 'is SAARC country')"
   ]
  },
  {
   "cell_type": "markdown",
   "metadata": {},
   "source": [
    "We can also use `in` for looping through a list."
   ]
  },
  {
   "cell_type": "code",
   "execution_count": 5,
   "metadata": {},
   "outputs": [
    {
     "name": "stdout",
     "output_type": "stream",
     "text": [
      "Bangladesh\n",
      "India\n",
      "Pakistan\n",
      "Bhutan\n",
      "Nepal\n",
      "Sri Lanka\n",
      "Maldives\n"
     ]
    }
   ],
   "source": [
    "saarc = ['Bangladesh', 'India', 'Pakistan', 'Bhutan', \n",
    "         'Nepal', 'Sri Lanka', 'Maldives']\n",
    "\n",
    "for country in saarc:\n",
    "    print(country)"
   ]
  },
  {
   "cell_type": "markdown",
   "metadata": {},
   "source": [
    "`enumerate` helps to get the index also."
   ]
  },
  {
   "cell_type": "code",
   "execution_count": 11,
   "metadata": {},
   "outputs": [
    {
     "name": "stdout",
     "output_type": "stream",
     "text": [
      "2 Bangladesh\n",
      "3 India\n",
      "4 Pakistan\n",
      "5 Bhutan\n",
      "6 Nepal\n",
      "7 Sri Lanka\n",
      "8 Maldives\n"
     ]
    }
   ],
   "source": [
    "for index, country in enumerate(saarc, start=2):    # starts from second index\n",
    "    print(index, country)"
   ]
  },
  {
   "cell_type": "markdown",
   "metadata": {},
   "source": [
    "`append` _adds_ new element in the list at the _end_."
   ]
  },
  {
   "cell_type": "code",
   "execution_count": 3,
   "metadata": {},
   "outputs": [
    {
     "name": "stdout",
     "output_type": "stream",
     "text": [
      "['Bangladesh', 'India', 'Pakistan', 'Bhutan', 'Nepal', 'Sri Lanka', 'Maldives', 'Afghanistan']\n"
     ]
    }
   ],
   "source": [
    "saarc = ['Bangladesh', 'India', 'Pakistan', 'Bhutan', \n",
    "         'Nepal', 'Sri Lanka', 'Maldives']\n",
    "\n",
    "country = 'Afghanistan'\n",
    "\n",
    "saarc.append(country)\n",
    "\n",
    "print(saarc)"
   ]
  },
  {
   "cell_type": "markdown",
   "metadata": {},
   "source": [
    "`extend` method can be used to _add_ every elements of _a list_ into _another_ list."
   ]
  },
  {
   "cell_type": "code",
   "execution_count": 4,
   "metadata": {},
   "outputs": [
    {
     "name": "stdout",
     "output_type": "stream",
     "text": [
      "['bob', 'susie', 'anna', 'hasbulla', 'joe']\n"
     ]
    }
   ],
   "source": [
    "party = ['bob', 'susie', 'anna']\n",
    "\n",
    "new_members = ['hasbulla', 'joe']\n",
    "\n",
    "party.extend(new_members)\n",
    "\n",
    "print(party)"
   ]
  },
  {
   "cell_type": "markdown",
   "metadata": {},
   "source": [
    "`max`, `min`, `sum` functions are usable as there title suggests."
   ]
  },
  {
   "cell_type": "code",
   "execution_count": 8,
   "metadata": {},
   "outputs": [
    {
     "name": "stdout",
     "output_type": "stream",
     "text": [
      "minimum value: 12\n",
      "maximum value: 79\n",
      "summation 294\n"
     ]
    }
   ],
   "source": [
    "li = [56, 43, 12, 67, 37, 79]\n",
    "\n",
    "print('minimum value:', min(li))  # smallest element of the list `li`\n",
    "print('maximum value:', max(li))  # largest element of the list `li`\n",
    "print('summation', sum(li))  # summation of all the elements in the list `li`"
   ]
  },
  {
   "cell_type": "markdown",
   "metadata": {},
   "source": [
    "`index` returns index of a certain element."
   ]
  },
  {
   "cell_type": "code",
   "execution_count": 12,
   "metadata": {},
   "outputs": [
    {
     "name": "stdout",
     "output_type": "stream",
     "text": [
      "67 is at index 3\n"
     ]
    }
   ],
   "source": [
    "ind67 = li.index(67)\n",
    "\n",
    "print('67 is at index', ind67)"
   ]
  },
  {
   "cell_type": "markdown",
   "metadata": {},
   "source": [
    "`sort` method _sorts_ the list."
   ]
  },
  {
   "cell_type": "code",
   "execution_count": 5,
   "metadata": {},
   "outputs": [
    {
     "name": "stdout",
     "output_type": "stream",
     "text": [
      "Sorted in ascending order: [12, 37, 43, 56, 67, 79]\n",
      "Sorted in descending order: [79, 67, 56, 43, 37, 12]\n"
     ]
    }
   ],
   "source": [
    "li = [56, 43, 12, 67, 37, 79]\n",
    "\n",
    "# sorts in ascending order\n",
    "li.sort()\n",
    "print('Sorted in ascending order:', li)\n",
    "\n",
    "# sorts in descending order\n",
    "li.sort(reverse=True)\n",
    "print('Sorted in descending order:', li)"
   ]
  },
  {
   "cell_type": "markdown",
   "metadata": {},
   "source": [
    "`sort` method _sorts_ any list(the list gets _changed_). If we don't want to change the list, we can use `sorted` function."
   ]
  },
  {
   "cell_type": "code",
   "execution_count": 6,
   "metadata": {},
   "outputs": [
    {
     "name": "stdout",
     "output_type": "stream",
     "text": [
      "[56, 43, 12, 67, 37, 79]\n",
      "[12, 37, 43, 56, 67, 79]\n"
     ]
    }
   ],
   "source": [
    "li = [56, 43, 12, 67, 37, 79]\n",
    "\n",
    "sorted_li = sorted(li)\n",
    "\n",
    "print(li)\n",
    "print(sorted_li)"
   ]
  },
  {
   "cell_type": "markdown",
   "metadata": {},
   "source": [
    "`reverse` method _reverses_ the list."
   ]
  },
  {
   "cell_type": "code",
   "execution_count": 123,
   "metadata": {},
   "outputs": [
    {
     "name": "stdout",
     "output_type": "stream",
     "text": [
      "[79, 37, 67, 12, 43, 56]\n"
     ]
    }
   ],
   "source": [
    "li = [56, 43, 12, 67, 37, 79]\n",
    "\n",
    "li.reverse()\n",
    "\n",
    "print(li)"
   ]
  },
  {
   "cell_type": "markdown",
   "metadata": {},
   "source": [
    "`insert` method _inserts_ an element at a _new position_."
   ]
  },
  {
   "cell_type": "code",
   "execution_count": 4,
   "metadata": {},
   "outputs": [
    {
     "name": "stdout",
     "output_type": "stream",
     "text": [
      "['Bangladesh', 'India', 'Pakistan', 'Afghanistan', 'Bhutan', 'Nepal', 'Sri Lanka', 'Maldives']\n"
     ]
    }
   ],
   "source": [
    "saarc = ['Bangladesh', 'India', 'Pakistan', 'Bhutan', \n",
    "         'Nepal', 'Sri Lanka', 'Maldives']\n",
    "\n",
    "country = 'Afghanistan'\n",
    "\n",
    "saarc.insert(3, country)\n",
    "\n",
    "print(saarc)"
   ]
  },
  {
   "cell_type": "markdown",
   "metadata": {},
   "source": [
    "`remove` _removes_ an element from the list."
   ]
  },
  {
   "cell_type": "code",
   "execution_count": 125,
   "metadata": {},
   "outputs": [
    {
     "name": "stdout",
     "output_type": "stream",
     "text": [
      "[56, 43, 67, 37, 12, 79, 12]\n"
     ]
    }
   ],
   "source": [
    "li = [56, 43, 12, 67, 37, 12, 79, 12]\n",
    "\n",
    "li.remove(12)\n",
    "\n",
    "print(li)"
   ]
  },
  {
   "cell_type": "markdown",
   "metadata": {},
   "source": [
    "Note that, `12` has been _removed_ from the _first index, where it's found_. Now, if we attempt to _remove_ an element from a list, _and the list doesn't have it_,"
   ]
  },
  {
   "cell_type": "code",
   "execution_count": 126,
   "metadata": {},
   "outputs": [
    {
     "ename": "ValueError",
     "evalue": "list.remove(x): x not in list",
     "output_type": "error",
     "traceback": [
      "\u001b[1;31m---------------------------------------------------------------------------\u001b[0m",
      "\u001b[1;31mValueError\u001b[0m                                Traceback (most recent call last)",
      "Cell \u001b[1;32mIn[126], line 3\u001b[0m\n\u001b[0;32m      1\u001b[0m li \u001b[38;5;241m=\u001b[39m [\u001b[38;5;241m56\u001b[39m, \u001b[38;5;241m43\u001b[39m, \u001b[38;5;241m12\u001b[39m, \u001b[38;5;241m67\u001b[39m, \u001b[38;5;241m37\u001b[39m, \u001b[38;5;241m12\u001b[39m, \u001b[38;5;241m79\u001b[39m, \u001b[38;5;241m12\u001b[39m]\n\u001b[1;32m----> 3\u001b[0m li\u001b[38;5;241m.\u001b[39mremove(\u001b[38;5;241m80\u001b[39m)\n\u001b[0;32m      5\u001b[0m \u001b[38;5;28mprint\u001b[39m(li)\n",
      "\u001b[1;31mValueError\u001b[0m: list.remove(x): x not in list"
     ]
    }
   ],
   "source": [
    "li = [56, 43, 12, 67, 37, 12, 79, 12]\n",
    "\n",
    "li.remove(80)\n",
    "\n",
    "print(li)"
   ]
  },
  {
   "cell_type": "markdown",
   "metadata": {},
   "source": [
    "We should _check_ for the element _before_ we remove it."
   ]
  },
  {
   "cell_type": "code",
   "execution_count": 6,
   "metadata": {},
   "outputs": [
    {
     "name": "stdout",
     "output_type": "stream",
     "text": [
      "80 doesn't belong to the list\n"
     ]
    }
   ],
   "source": [
    "li = [56, 43, 12, 67, 37, 12, 79, 12]\n",
    "\n",
    "number = 80\n",
    "\n",
    "if number in li:\n",
    "    li.remove(number)\n",
    "\n",
    "else:\n",
    "    print(number, 'doesn\\'t belong to the list')"
   ]
  },
  {
   "cell_type": "markdown",
   "metadata": {},
   "source": [
    "`pop` method _removes_ the _last element_ of the list."
   ]
  },
  {
   "cell_type": "code",
   "execution_count": 7,
   "metadata": {},
   "outputs": [
    {
     "name": "stdout",
     "output_type": "stream",
     "text": [
      "['mango', 'pineapple', 'jackfruit']\n"
     ]
    }
   ],
   "source": [
    "fruits = ['mango', 'pineapple', 'jackfruit', 'banana']\n",
    "\n",
    "fruits.pop()\n",
    "\n",
    "print(fruits)"
   ]
  },
  {
   "cell_type": "markdown",
   "metadata": {},
   "source": [
    "`count` method _counts_ how many times, any element is _present_ in the list."
   ]
  },
  {
   "cell_type": "code",
   "execution_count": 8,
   "metadata": {},
   "outputs": [
    {
     "name": "stdout",
     "output_type": "stream",
     "text": [
      "12 is present 3 times in the list.\n"
     ]
    }
   ],
   "source": [
    "li = [56, 43, 12, 67, 37, 12, 79, 12]\n",
    "\n",
    "number = 12\n",
    "\n",
    "cnt = li.count(number)\n",
    "\n",
    "print(number, 'is present', cnt, 'times in the list.')"
   ]
  },
  {
   "cell_type": "markdown",
   "metadata": {},
   "source": [
    "We can perform `+` or `*` operations in Python."
   ]
  },
  {
   "cell_type": "code",
   "execution_count": null,
   "metadata": {},
   "outputs": [
    {
     "name": "stdout",
     "output_type": "stream",
     "text": [
      "[1, 2, 3, 4, 5]\n",
      "[1, 2, 3, 1, 2, 3, 1, 2, 3]\n"
     ]
    }
   ],
   "source": [
    "li1 = [1, 2, 3]\n",
    "li2 = [4, 5]\n",
    "\n",
    "li = li1 + li2  # All the elements of li1 and li2 will be added\n",
    "\n",
    "print(li)\n",
    "\n",
    "li = 3 * li1    # All the elemets of li1 will be added 3 times\n",
    "\n",
    "print(li)"
   ]
  },
  {
   "cell_type": "markdown",
   "metadata": {},
   "source": [
    "`split` method _splits_ a string by desired separator and returns a list."
   ]
  },
  {
   "cell_type": "code",
   "execution_count": 13,
   "metadata": {},
   "outputs": [
    {
     "name": "stdout",
     "output_type": "stream",
     "text": [
      "['Chordate', 'Sponge', 'Arthropod', 'Annelid', 'Cnidaria']\n"
     ]
    }
   ],
   "source": [
    "kingdoms = 'Chordate, Sponge, Arthropod, Annelid, Cnidaria'\n",
    "\n",
    "list_of_kingdoms = kingdoms.split(', ')\n",
    "\n",
    "print(list_of_kingdoms)"
   ]
  },
  {
   "cell_type": "markdown",
   "metadata": {},
   "source": [
    "`shuffle` from `random` module helps to _shuffle_ a list."
   ]
  },
  {
   "cell_type": "code",
   "execution_count": 1,
   "metadata": {},
   "outputs": [
    {
     "name": "stdout",
     "output_type": "stream",
     "text": [
      "[37, 43, 56, 79, 12, 12, 67, 12]\n"
     ]
    }
   ],
   "source": [
    "from random import shuffle\n",
    "\n",
    "li = [56, 43, 12, 67, 37, 12, 79, 12]\n",
    "\n",
    "shuffle(li)\n",
    "\n",
    "print(li)"
   ]
  },
  {
   "cell_type": "markdown",
   "metadata": {},
   "source": [
    ">**List comprehensions in Python.**"
   ]
  },
  {
   "cell_type": "code",
   "execution_count": null,
   "metadata": {},
   "outputs": [
    {
     "name": "stdout",
     "output_type": "stream",
     "text": [
      "[2, 4, 6, 8]\n"
     ]
    }
   ],
   "source": [
    "li = [1, 2, 3, 4]\n",
    "\n",
    "new_li = [2 * i for i in li]\n",
    "\n",
    "print(new_li)"
   ]
  },
  {
   "cell_type": "markdown",
   "metadata": {},
   "source": [
    "Making a new list taking all the _even numbers_ from a list."
   ]
  },
  {
   "cell_type": "code",
   "execution_count": null,
   "metadata": {},
   "outputs": [
    {
     "name": "stdout",
     "output_type": "stream",
     "text": [
      "[56, 12, 12, 12]\n"
     ]
    }
   ],
   "source": [
    "li = [56, 43, 12, 67, 37, 12, 79, 12]\n",
    "\n",
    "even_numbers = [x for x in li if x % 2 == 0]\n",
    "\n",
    "print(even_numbers)"
   ]
  },
  {
   "cell_type": "code",
   "execution_count": 12,
   "metadata": {},
   "outputs": [
    {
     "name": "stdout",
     "output_type": "stream",
     "text": [
      "[60, 20, 30]\n",
      "[60, 20, 30]\n"
     ]
    }
   ],
   "source": [
    "a = [10, 20, 30]\n",
    "b = a\n",
    "a[0] = 60\n",
    "print(a)\n",
    "print(b)"
   ]
  },
  {
   "cell_type": "markdown",
   "metadata": {},
   "source": [
    "What happend in here, is `a` and `b` share the same memory address. So both of them will get modified if either of one gets modified. We can use `copy()` if we want to allocate different memory address for each object."
   ]
  },
  {
   "cell_type": "code",
   "execution_count": 13,
   "metadata": {},
   "outputs": [
    {
     "name": "stdout",
     "output_type": "stream",
     "text": [
      "[60, 20, 30]\n",
      "[10, 20, 30]\n"
     ]
    }
   ],
   "source": [
    "a = [10, 20, 30]\n",
    "b = a.copy()\n",
    "a[0] = 60\n",
    "print(a)\n",
    "print(b)"
   ]
  },
  {
   "cell_type": "markdown",
   "metadata": {},
   "source": [
    "We can use `is` keyword to check if two or more variables share the same memory address."
   ]
  },
  {
   "cell_type": "code",
   "execution_count": 14,
   "metadata": {},
   "outputs": [
    {
     "name": "stdout",
     "output_type": "stream",
     "text": [
      "[10, 20, 30] and [10, 20, 30] are equal.\n",
      "[10, 20, 30] and [10, 20, 30] doesn't share the same memory address.\n",
      "[10, 20, 30] and [10, 20, 30] shares the same memory address.\n"
     ]
    }
   ],
   "source": [
    "a = [10, 20, 30]\n",
    "b = [10, 20, 30]\n",
    "\n",
    "if a == b:\n",
    "    print(a, 'and', b, 'are equal.')\n",
    "else:\n",
    "    print(a, 'and', b, 'aren\\'t equal.')\n",
    "\n",
    "if a is b:\n",
    "    print(a, 'and', b, 'shares the same memory address.')\n",
    "else:\n",
    "    print(a, 'and', b, 'doesn\\'t share the same memory address.')\n",
    "\n",
    "b = a\n",
    "\n",
    "if a is b:\n",
    "    print(a, 'and', b, 'shares the same memory address.')\n",
    "else:\n",
    "    print(a, 'and', b, 'doesn\\'t share the same memory address.')"
   ]
  },
  {
   "cell_type": "markdown",
   "metadata": {},
   "source": [
    "Moral of the story, `is` and `==` aren't the same thing."
   ]
  },
  {
   "cell_type": "markdown",
   "metadata": {},
   "source": [
    "We can make a _list_ of _random_ numbers using `randint`"
   ]
  },
  {
   "cell_type": "code",
   "execution_count": 5,
   "metadata": {},
   "outputs": [
    {
     "name": "stdout",
     "output_type": "stream",
     "text": [
      "[16, 10, 20, 20, 18]\n"
     ]
    }
   ],
   "source": [
    "from random import randint\n",
    "\n",
    "rand_list = [randint(10, 20) for _ in range(5)]\n",
    "\n",
    "print(rand_list)"
   ]
  },
  {
   "cell_type": "markdown",
   "metadata": {},
   "source": [
    "But it's better to use `randrange` as we can assign steps."
   ]
  },
  {
   "cell_type": "code",
   "execution_count": 24,
   "metadata": {},
   "outputs": [
    {
     "name": "stdout",
     "output_type": "stream",
     "text": [
      "[17, 19, 11, 19, 13]\n"
     ]
    }
   ],
   "source": [
    "from random import randrange\n",
    "\n",
    "rand_list = [randrange(7, 20, 2) for _ in range(5)]\n",
    "\n",
    "print(rand_list)"
   ]
  },
  {
   "cell_type": "markdown",
   "metadata": {},
   "source": [
    "`randrange` won't generate any r-value."
   ]
  },
  {
   "cell_type": "markdown",
   "metadata": {},
   "source": [
    "`choice` and `choices` help to choose _random_ elements from a list."
   ]
  },
  {
   "cell_type": "code",
   "execution_count": 4,
   "metadata": {},
   "outputs": [
    {
     "name": "stdout",
     "output_type": "stream",
     "text": [
      "56\n",
      "[37, 67, 37]\n"
     ]
    }
   ],
   "source": [
    "from random import choice, choices\n",
    "\n",
    "li = [56, 43, 12, 67, 37, 21, 79]\n",
    "\n",
    "print(choice(li))           # returns an element\n",
    "print(choices(li, k=3))     # returns a list"
   ]
  },
  {
   "cell_type": "markdown",
   "metadata": {},
   "source": [
    "`sample` chooses each element once."
   ]
  },
  {
   "cell_type": "code",
   "execution_count": 37,
   "metadata": {},
   "outputs": [
    {
     "name": "stdout",
     "output_type": "stream",
     "text": [
      "[37, 67, 43]\n"
     ]
    }
   ],
   "source": [
    "from random import sample\n",
    "\n",
    "li = [56, 43, 12, 67, 37, 21, 79]\n",
    "\n",
    "print(sample(li, k=3))"
   ]
  },
  {
   "cell_type": "markdown",
   "metadata": {},
   "source": [
    ">**`N` fibonacci numbers printing program.**"
   ]
  },
  {
   "cell_type": "code",
   "execution_count": 10,
   "metadata": {},
   "outputs": [
    {
     "name": "stdout",
     "output_type": "stream",
     "text": [
      "1, 1, 2, 3, 5, 8, 13, 21, 34, 55, "
     ]
    }
   ],
   "source": [
    "N = 10\n",
    "\n",
    "fib = [1, 1]\n",
    "\n",
    "for i in range(2, 51):\n",
    "    fib.append(fib[-1]+fib[-2])\n",
    "\n",
    "for i in range(N):\n",
    "    print(fib[i], end = ', ')"
   ]
  },
  {
   "cell_type": "markdown",
   "metadata": {},
   "source": [
    ">**Maximum, minimum number and summation of a list of `n` random numbers.**"
   ]
  },
  {
   "cell_type": "code",
   "execution_count": 12,
   "metadata": {},
   "outputs": [
    {
     "name": "stdout",
     "output_type": "stream",
     "text": [
      "[-2, 10, 1, -2, -5, -2, -9, -7, -2, -2]\n",
      "Maximum number: 10\n",
      "Minimum number: -9\n",
      "Summation: -20\n"
     ]
    }
   ],
   "source": [
    "import random\n",
    "\n",
    "n = 10\n",
    "\n",
    "rand_list = []\n",
    "\n",
    "for i in range(n):\n",
    "    r = random.randint(-10, 10)\n",
    "    rand_list.append(r)\n",
    "\n",
    "print(rand_list)\n",
    "\n",
    "print('Maximum number:', max(rand_list))\n",
    "print('Minimum number:', min(rand_list))\n",
    "print('Summation:', sum(rand_list))"
   ]
  },
  {
   "cell_type": "markdown",
   "metadata": {},
   "source": [
    "`tuples` in Python."
   ]
  },
  {
   "cell_type": "code",
   "execution_count": 15,
   "metadata": {},
   "outputs": [
    {
     "name": "stdout",
     "output_type": "stream",
     "text": [
      "(56, 43, 12, 67, 37, 21, 79, 12)\n"
     ]
    }
   ],
   "source": [
    "tup = (56, 43, 12, 67, 37, 21, 79, 12)\n",
    "\n",
    "print(tup)"
   ]
  },
  {
   "cell_type": "code",
   "execution_count": 16,
   "metadata": {},
   "outputs": [
    {
     "ename": "TypeError",
     "evalue": "'tuple' object does not support item assignment",
     "output_type": "error",
     "traceback": [
      "\u001b[1;31m---------------------------------------------------------------------------\u001b[0m",
      "\u001b[1;31mTypeError\u001b[0m                                 Traceback (most recent call last)",
      "Cell \u001b[1;32mIn[16], line 1\u001b[0m\n\u001b[1;32m----> 1\u001b[0m tup[\u001b[38;5;241m3\u001b[39m] \u001b[38;5;241m=\u001b[39m \u001b[38;5;241m10\u001b[39m\n\u001b[0;32m      3\u001b[0m \u001b[38;5;28mprint\u001b[39m(tup)\n",
      "\u001b[1;31mTypeError\u001b[0m: 'tuple' object does not support item assignment"
     ]
    }
   ],
   "source": [
    "tup[3] = 10\n",
    "\n",
    "print(tup)"
   ]
  },
  {
   "cell_type": "markdown",
   "metadata": {},
   "source": [
    "`tuples` are immutable."
   ]
  },
  {
   "cell_type": "markdown",
   "metadata": {},
   "source": [
    "We can set probability of choosing any element from a list."
   ]
  },
  {
   "cell_type": "code",
   "execution_count": 29,
   "metadata": {},
   "outputs": [
    {
     "name": "stdout",
     "output_type": "stream",
     "text": [
      "['bob', 'parker', 'susie', 'susie', 'susie']\n"
     ]
    }
   ],
   "source": [
    "names = ['bob', 'susie', 'anna', 'jacob', 'parker']\n",
    "\n",
    "weights = (.15, .25, .10, .20, .20)\n",
    "\n",
    "print(choices(names, k=5, weights=weights))"
   ]
  },
  {
   "cell_type": "markdown",
   "metadata": {},
   "source": [
    "`sets` in Python"
   ]
  },
  {
   "cell_type": "code",
   "execution_count": 18,
   "metadata": {},
   "outputs": [
    {
     "name": "stdout",
     "output_type": "stream",
     "text": [
      "{67, 37, 21, 56, 43, 12, 79}\n"
     ]
    }
   ],
   "source": [
    "new_set = {56, 43, 12, 67, 37, 21, 79, 12}\n",
    "\n",
    "print(new_set)"
   ]
  },
  {
   "cell_type": "markdown",
   "metadata": {},
   "source": [
    "`set` throws away the duplicates and doesn't care about the order."
   ]
  },
  {
   "cell_type": "code",
   "execution_count": 19,
   "metadata": {},
   "outputs": [
    {
     "name": "stdout",
     "output_type": "stream",
     "text": [
      "12 is present in the set.\n"
     ]
    }
   ],
   "source": [
    "if 12 in new_set:\n",
    "    print('12 is present in the set.')\n",
    "\n",
    "else:\n",
    "    print('12 isn\\'t present in the set.')"
   ]
  },
  {
   "cell_type": "markdown",
   "metadata": {},
   "source": [
    "`intersection` method returns a set of common members from two sets."
   ]
  },
  {
   "cell_type": "code",
   "execution_count": 20,
   "metadata": {},
   "outputs": [
    {
     "name": "stdout",
     "output_type": "stream",
     "text": [
      "{'History', 'Math'}\n"
     ]
    }
   ],
   "source": [
    "cs_courses = {'Math', 'Data Structures', 'History', 'Algorithms'}\n",
    "art_courses = {'Design', 'History', 'Math', 'Literature'}\n",
    "\n",
    "print(cs_courses.intersection(art_courses))"
   ]
  },
  {
   "cell_type": "markdown",
   "metadata": {},
   "source": [
    "`difference` method returns a set of elements that are not present in the second set."
   ]
  },
  {
   "cell_type": "code",
   "execution_count": 21,
   "metadata": {},
   "outputs": [
    {
     "name": "stdout",
     "output_type": "stream",
     "text": [
      "{'Algorithms', 'Data Structures'}\n"
     ]
    }
   ],
   "source": [
    "print(cs_courses.difference(art_courses))"
   ]
  },
  {
   "cell_type": "markdown",
   "metadata": {},
   "source": [
    "`union` method returns a set combining all the elements of two sets."
   ]
  },
  {
   "cell_type": "code",
   "execution_count": 22,
   "metadata": {},
   "outputs": [
    {
     "name": "stdout",
     "output_type": "stream",
     "text": [
      "{'Algorithms', 'Math', 'Data Structures', 'Literature', 'History', 'Design'}\n"
     ]
    }
   ],
   "source": [
    "print(cs_courses.union(art_courses))"
   ]
  },
  {
   "cell_type": "code",
   "execution_count": 25,
   "metadata": {},
   "outputs": [
    {
     "name": "stdout",
     "output_type": "stream",
     "text": [
      "<class 'dict'>\n"
     ]
    }
   ],
   "source": [
    "# Empty list\n",
    "\n",
    "li = []\n",
    "li = list()\n",
    "\n",
    "# Empty tuple\n",
    "\n",
    "tp = ()\n",
    "tp = tuple()\n",
    "\n",
    "# Empty set\n",
    "\n",
    "st = {}\n",
    "print(type(st))\n",
    "st = set()"
   ]
  },
  {
   "cell_type": "markdown",
   "metadata": {},
   "source": [
    "`st = {}` creates an empty dictionary, not an empty set."
   ]
  }
 ],
 "metadata": {
  "kernelspec": {
   "display_name": "base",
   "language": "python",
   "name": "python3"
  },
  "language_info": {
   "codemirror_mode": {
    "name": "ipython",
    "version": 3
   },
   "file_extension": ".py",
   "mimetype": "text/x-python",
   "name": "python",
   "nbconvert_exporter": "python",
   "pygments_lexer": "ipython3",
   "version": "3.12.4"
  }
 },
 "nbformat": 4,
 "nbformat_minor": 2
}
