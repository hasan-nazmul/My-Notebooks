{
 "cells": [
  {
   "cell_type": "markdown",
   "metadata": {},
   "source": [
    ">Functions in Python"
   ]
  },
  {
   "cell_type": "code",
   "execution_count": 5,
   "metadata": {},
   "outputs": [
    {
     "name": "stdout",
     "output_type": "stream",
     "text": [
      "120\n"
     ]
    }
   ],
   "source": [
    "def multiply(a, b):\n",
    "    m = a * b\n",
    "    return m\n",
    "\n",
    "ans = multiply(10, 12)\n",
    "\n",
    "print(ans)"
   ]
  },
  {
   "cell_type": "markdown",
   "metadata": {},
   "source": [
    "Functions are used to _perform_ any sort tasks in _programming_. These are re-usable and can be modified by there parameters. We can use the `multiply` function defined above, as the way we want."
   ]
  },
  {
   "cell_type": "code",
   "execution_count": 6,
   "metadata": {},
   "outputs": [
    {
     "name": "stdout",
     "output_type": "stream",
     "text": [
      "70.0\n",
      "21.0\n",
      "abcabcabc\n"
     ]
    }
   ],
   "source": [
    "def multiply(a, b):\n",
    "    m = a * b\n",
    "    return m\n",
    "\n",
    "ans = multiply(12.5, 5.6)   # float multiplied by float\n",
    "\n",
    "print(ans)\n",
    "\n",
    "ans = multiply(6, 3.5)   # int multiplied by float\n",
    "\n",
    "print(ans)\n",
    "\n",
    "ans = multiply(\"abc\", 3)   # string multiplied by int\n",
    "\n",
    "print(ans)"
   ]
  },
  {
   "cell_type": "markdown",
   "metadata": {},
   "source": [
    "We don't always have to `return` something. We can use functions to _perform_ some _operations_ also."
   ]
  },
  {
   "cell_type": "code",
   "execution_count": 7,
   "metadata": {},
   "outputs": [
    {
     "name": "stdout",
     "output_type": "stream",
     "text": [
      "Hello! Joe\n"
     ]
    }
   ],
   "source": [
    "def greet(name):\n",
    "    print(\"Hello!\", name)\n",
    "\n",
    "name = \"Joe\"\n",
    "\n",
    "greet(name)"
   ]
  },
  {
   "cell_type": "code",
   "execution_count": 10,
   "metadata": {},
   "outputs": [],
   "source": [
    "import turtle\n",
    "\n",
    "def draw_square():\n",
    "    for i in range(4):\n",
    "        turtle.forward(100)\n",
    "        turtle.left(90)\n",
    "\n",
    "for i in range(36):\n",
    "    draw_square()\n",
    "    turtle.left(10)\n",
    "\n",
    "turtle.exitonclick()"
   ]
  },
  {
   "cell_type": "markdown",
   "metadata": {},
   "source": [
    "Order of parameters _matter_ while using functions. If _correct order_ isn't geting maintained, correct output cannot be _expected_."
   ]
  },
  {
   "cell_type": "code",
   "execution_count": null,
   "metadata": {},
   "outputs": [
    {
     "name": "stdout",
     "output_type": "stream",
     "text": [
      "love I python\n"
     ]
    }
   ],
   "source": [
    "def build_sentance(word1, word2, word3):\n",
    "    sentance = \" \".join([word1, word2, word3])\n",
    "    return sentance\n",
    "\n",
    "print(build_sentance(\"love\", \"I\", \"python\"))"
   ]
  },
  {
   "cell_type": "markdown",
   "metadata": {},
   "source": [
    "Correct-order _has_ _to_ be maintained."
   ]
  },
  {
   "cell_type": "code",
   "execution_count": null,
   "metadata": {},
   "outputs": [
    {
     "name": "stdout",
     "output_type": "stream",
     "text": [
      "I love python\n"
     ]
    }
   ],
   "source": [
    "def build_sentance(word1, word2, word3):\n",
    "    sentance = \" \".join([word1, word2, word3])\n",
    "    return sentance\n",
    "\n",
    "print(build_sentance(\"I\", \"love\", \"python\"))"
   ]
  },
  {
   "cell_type": "markdown",
   "metadata": {},
   "source": [
    "Or we can do something like this."
   ]
  },
  {
   "cell_type": "code",
   "execution_count": 9,
   "metadata": {},
   "outputs": [
    {
     "name": "stdout",
     "output_type": "stream",
     "text": [
      "I love python\n"
     ]
    }
   ],
   "source": [
    "def build_sentance(word1, word2, word3):\n",
    "    sentance = \" \".join([word1, word2, word3])\n",
    "    return sentance\n",
    "\n",
    "full_sentance = build_sentance(word2 = \"love\", word3 = \"python\", word1 = \"I\")\n",
    "\n",
    "print(full_sentance)"
   ]
  },
  {
   "cell_type": "markdown",
   "metadata": {},
   "source": [
    "We can set _default parameters_ for functions."
   ]
  },
  {
   "cell_type": "code",
   "execution_count": 1,
   "metadata": {},
   "outputs": [
    {
     "name": "stdout",
     "output_type": "stream",
     "text": [
      "I love python\n",
      "Joe loves C++\n"
     ]
    }
   ],
   "source": [
    "def build_sentance(word1, word2, word3 = \"python\"):\n",
    "    sentance = \" \".join([word1, word2, word3])\n",
    "    return sentance\n",
    "\n",
    "print(build_sentance(\"I\", \"love\"))\n",
    "\n",
    "print(build_sentance(\"Joe\", \"loves\", \"C++\"))"
   ]
  },
  {
   "cell_type": "markdown",
   "metadata": {},
   "source": [
    "If we don't send any _value_ for the _last parameter_ `word3` the _value_ of `word3` will _remain_ `\"python\"`, as we did it on the _first call_. And if we _send_ value, _value_ of `word3` will be _changed_ to that, as we did it on the second call. Now, we cannot write something like this:"
   ]
  },
  {
   "cell_type": "code",
   "execution_count": 3,
   "metadata": {},
   "outputs": [
    {
     "ename": "SyntaxError",
     "evalue": "parameter without a default follows parameter with a default (1548259663.py, line 1)",
     "output_type": "error",
     "traceback": [
      "\u001b[1;36m  Cell \u001b[1;32mIn[3], line 1\u001b[1;36m\u001b[0m\n\u001b[1;33m    def build_sentance(word1, word2 = \"loves\", word3):\u001b[0m\n\u001b[1;37m                                               ^\u001b[0m\n\u001b[1;31mSyntaxError\u001b[0m\u001b[1;31m:\u001b[0m parameter without a default follows parameter with a default\n"
     ]
    }
   ],
   "source": [
    "def build_sentance(word1, word2 = \"loves\", word3):\n",
    "    sentance = \" \".join([word1, word2, word3])\n",
    "    return sentance\n",
    "\n",
    "print(build_sentance(\"Joe\", \"python\"))"
   ]
  },
  {
   "cell_type": "markdown",
   "metadata": {},
   "source": [
    "Default parameters _needed_ be to set from the _last_ parameter."
   ]
  },
  {
   "cell_type": "code",
   "execution_count": 4,
   "metadata": {},
   "outputs": [
    {
     "name": "stdout",
     "output_type": "stream",
     "text": [
      "Joe loves C++\n",
      "I love python\n",
      "Hasbulla hates java\n"
     ]
    }
   ],
   "source": [
    "def build_sentance(word1, word3, word2 = \"loves\"):\n",
    "    sentance = \" \".join([word1, word2, word3])\n",
    "    return sentance\n",
    "\n",
    "print(build_sentance(\"Joe\", \"C++\"))\n",
    "print(build_sentance(\"I\", \"python\", \"love\"))\n",
    "print(build_sentance(word1 = \"Hasbulla\", word2 = \"hates\", word3 = \"java\"))"
   ]
  },
  {
   "cell_type": "markdown",
   "metadata": {},
   "source": [
    "We can also set multiple default parameters."
   ]
  },
  {
   "cell_type": "code",
   "execution_count": 5,
   "metadata": {},
   "outputs": [
    {
     "name": "stdout",
     "output_type": "stream",
     "text": [
      "I love python\n",
      "Joe loves python\n",
      "Hasbulla loves C++\n"
     ]
    }
   ],
   "source": [
    "def build_sentance(word1, word2 = \"loves\", word3 = \"python\"):\n",
    "    sentance = \" \".join([word1, word2, word3])\n",
    "    return sentance\n",
    "\n",
    "print(build_sentance(\"I\", \"love\"))\n",
    "print(build_sentance(\"Joe\"))\n",
    "print(build_sentance(\"Hasbulla\", \"loves\", \"C++\"))"
   ]
  },
  {
   "cell_type": "markdown",
   "metadata": {},
   "source": [
    ">Pass by value"
   ]
  },
  {
   "cell_type": "code",
   "execution_count": 8,
   "metadata": {},
   "outputs": [
    {
     "name": "stdout",
     "output_type": "stream",
     "text": [
      "inside function\n",
      "a =  20 , b =  10\n",
      "outside function\n",
      "a =  10 , b =  20\n"
     ]
    }
   ],
   "source": [
    "def swap(a, b):\n",
    "    print(\"inside function\")\n",
    "    a, b = b, a\n",
    "    print(\"a = \", a, \", b = \", b)\n",
    "\n",
    "a = 10\n",
    "b = 20\n",
    "\n",
    "swap(a, b)\n",
    "print(\"outside function\")\n",
    "print(\"a = \", a, \", b = \", b)"
   ]
  },
  {
   "cell_type": "markdown",
   "metadata": {},
   "source": [
    "Observation: Values aren't getting _swapped_. \n",
    "Because when we send _values_ for parameters, the _values_ just gets _copied_ to function _parameters_. And if we _change_ the values of the _parameters_, it won't _change_ the values of the _variables_ _outside_ the function."
   ]
  },
  {
   "cell_type": "markdown",
   "metadata": {},
   "source": [
    ">Pass by referance"
   ]
  },
  {
   "cell_type": "code",
   "execution_count": 10,
   "metadata": {},
   "outputs": [
    {
     "name": "stdout",
     "output_type": "stream",
     "text": [
      "inside function\n",
      "[20, 10]\n"
     ]
    }
   ],
   "source": [
    "def swap(li):\n",
    "    print(\"inside function\")\n",
    "    li[0], li[1] = li[1], li[0]\n",
    "\n",
    "li1 = [10, 20]\n",
    "\n",
    "swap(li1)\n",
    "\n",
    "print(li1)"
   ]
  },
  {
   "cell_type": "markdown",
   "metadata": {},
   "source": [
    "When we _send_ objects, lists or strings as _parameters_, they don't just get _copied_ rather their _referance_ is sent. So that, if the values of the _parameters_ gets _changed_, the value of the _original_ list, string or object also gets _changed_."
   ]
  },
  {
   "cell_type": "markdown",
   "metadata": {},
   "source": [
    ">Lambda Function"
   ]
  },
  {
   "cell_type": "markdown",
   "metadata": {},
   "source": [
    "`lambda` functions contain only _one expression_ but _multiple_ _parameters_. It can be _defined_ in one line and shortens code so much."
   ]
  },
  {
   "cell_type": "code",
   "execution_count": 11,
   "metadata": {},
   "outputs": [
    {
     "name": "stdout",
     "output_type": "stream",
     "text": [
      "60\n"
     ]
    }
   ],
   "source": [
    "multiply = lambda x, y : x * y\n",
    "\n",
    "print(multiply(5, 12))"
   ]
  },
  {
   "cell_type": "code",
   "execution_count": 14,
   "metadata": {},
   "outputs": [
    {
     "name": "stdout",
     "output_type": "stream",
     "text": [
      "False\n"
     ]
    }
   ],
   "source": [
    "age_check = lambda age : True if age >= 18 else False\n",
    "\n",
    "print(age_check(12))"
   ]
  },
  {
   "cell_type": "markdown",
   "metadata": {},
   "source": [
    "We cannot use `elif` in `lambda` functions, but we can use this trick."
   ]
  },
  {
   "cell_type": "code",
   "execution_count": 1,
   "metadata": {},
   "outputs": [
    {
     "name": "stdout",
     "output_type": "stream",
     "text": [
      "Lesser\n",
      "Greater\n",
      "Equal\n"
     ]
    }
   ],
   "source": [
    "comp = lambda a, b : \"Greater\" if a > b else (\"Equal\" if a == b else \"Lesser\")\n",
    "\n",
    "print(comp(10, 12))\n",
    "print(comp(15, 12))\n",
    "print(comp(10, 10))"
   ]
  },
  {
   "cell_type": "code",
   "execution_count": 18,
   "metadata": {},
   "outputs": [
    {
     "name": "stdout",
     "output_type": "stream",
     "text": [
      "[1, 2, 3]\n"
     ]
    }
   ],
   "source": [
    "lst = [1, 2, 3]\n",
    "\n",
    "print_list = lambda li: print(li)\n",
    "\n",
    "print_list(lst)"
   ]
  },
  {
   "cell_type": "markdown",
   "metadata": {},
   "source": [
    ">Celcius to Farenheit Converter Program"
   ]
  },
  {
   "cell_type": "code",
   "execution_count": 19,
   "metadata": {},
   "outputs": [
    {
     "name": "stdout",
     "output_type": "stream",
     "text": [
      "231.8\n"
     ]
    }
   ],
   "source": [
    "celcius_to_farenheit = lambda c : (9.0 / 5.0) * c + 32.0\n",
    "\n",
    "print(celcius_to_farenheit(111))"
   ]
  },
  {
   "cell_type": "markdown",
   "metadata": {},
   "source": [
    ">Alphabet Counter Program"
   ]
  },
  {
   "cell_type": "code",
   "execution_count": 21,
   "metadata": {},
   "outputs": [
    {
     "name": "stdout",
     "output_type": "stream",
     "text": [
      "a : 2\n",
      "b : 1\n",
      "c : 1\n",
      "d : 2\n",
      "e : 3\n",
      "f : 1\n",
      "g : 1\n",
      "h : 1\n",
      "i : 1\n",
      "j : 1\n",
      "k : 1\n",
      "l : 1\n",
      "m : 1\n",
      "n : 1\n",
      "o : 4\n",
      "p : 1\n",
      "q : 1\n",
      "r : 2\n",
      "s : 1\n",
      "t : 1\n",
      "u : 2\n",
      "v : 1\n",
      "w : 1\n",
      "x : 1\n",
      "y : 1\n",
      "z : 1\n"
     ]
    }
   ],
   "source": [
    "def alphabet_counter(sentance):\n",
    "    alphabets = \"abcdefghijklmnopqrstuvwxyz\"\n",
    "    for a in alphabets:\n",
    "        print(a, \":\", sentance.count(a))\n",
    "\n",
    "alphabet_counter(\"a quick brown fox jumped over the lazy dogs\")"
   ]
  }
 ],
 "metadata": {
  "kernelspec": {
   "display_name": "base",
   "language": "python",
   "name": "python3"
  },
  "language_info": {
   "codemirror_mode": {
    "name": "ipython",
    "version": 3
   },
   "file_extension": ".py",
   "mimetype": "text/x-python",
   "name": "python",
   "nbconvert_exporter": "python",
   "pygments_lexer": "ipython3",
   "version": "3.12.4"
  }
 },
 "nbformat": 4,
 "nbformat_minor": 2
}
