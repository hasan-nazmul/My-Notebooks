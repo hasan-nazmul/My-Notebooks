{
 "cells": [
  {
   "cell_type": "markdown",
   "metadata": {},
   "source": [
    "**Functions in python**"
   ]
  },
  {
   "cell_type": "code",
   "execution_count": 5,
   "metadata": {},
   "outputs": [
    {
     "name": "stdout",
     "output_type": "stream",
     "text": [
      "120\n"
     ]
    }
   ],
   "source": [
    "def multiply(a, b):\n",
    "    m = a * b\n",
    "    return m\n",
    "\n",
    "ans = multiply(10, 12)\n",
    "\n",
    "print(ans)"
   ]
  },
  {
   "cell_type": "markdown",
   "metadata": {},
   "source": [
    "Functions are used to perform any sort tasks in programming. These are re-usable and can be modified by there parameters. We can use the `multiply` function defined above, as the way we want."
   ]
  },
  {
   "cell_type": "code",
   "execution_count": 6,
   "metadata": {},
   "outputs": [
    {
     "name": "stdout",
     "output_type": "stream",
     "text": [
      "70.0\n",
      "21.0\n",
      "abcabcabc\n"
     ]
    }
   ],
   "source": [
    "def multiply(a, b):\n",
    "    m = a * b\n",
    "    return m\n",
    "\n",
    "ans = multiply(12.5, 5.6)   # float multiplied by float\n",
    "\n",
    "print(ans)\n",
    "\n",
    "ans = multiply(6, 3.5)   # int multiplied by float\n",
    "\n",
    "print(ans)\n",
    "\n",
    "ans = multiply(\"abc\", 3)   # string multiplied by int\n",
    "\n",
    "print(ans)"
   ]
  },
  {
   "cell_type": "markdown",
   "metadata": {},
   "source": [
    "We don't always have to `return` something. We can use functions to perform some operations also."
   ]
  },
  {
   "cell_type": "code",
   "execution_count": 7,
   "metadata": {},
   "outputs": [
    {
     "name": "stdout",
     "output_type": "stream",
     "text": [
      "Hello! Joe\n"
     ]
    }
   ],
   "source": [
    "def greet(name):\n",
    "    print(\"Hello!\", name)\n",
    "\n",
    "name = \"Joe\"\n",
    "\n",
    "greet(name)"
   ]
  },
  {
   "cell_type": "code",
   "execution_count": 10,
   "metadata": {},
   "outputs": [],
   "source": [
    "import turtle\n",
    "\n",
    "def draw_square():\n",
    "    for i in range(4):\n",
    "        turtle.forward(100)\n",
    "        turtle.left(90)\n",
    "\n",
    "for i in range(36):\n",
    "    draw_square()\n",
    "    turtle.left(10)\n",
    "\n",
    "turtle.exitonclick()"
   ]
  },
  {
   "cell_type": "markdown",
   "metadata": {},
   "source": [
    "Order of parameters matter while using functions. If correct order isn't geting maintained, correct output cannot be expected."
   ]
  },
  {
   "cell_type": "code",
   "execution_count": null,
   "metadata": {},
   "outputs": [
    {
     "name": "stdout",
     "output_type": "stream",
     "text": [
      "love I python\n"
     ]
    }
   ],
   "source": [
    "def build_sentance(word1, word2, word3):\n",
    "    sentance = \" \".join([word1, word2, word3])\n",
    "    return sentance\n",
    "\n",
    "print(build_sentance(\"love\", \"I\", \"python\"))"
   ]
  },
  {
   "cell_type": "markdown",
   "metadata": {},
   "source": [
    "Correct-order has to be maintained."
   ]
  },
  {
   "cell_type": "code",
   "execution_count": null,
   "metadata": {},
   "outputs": [
    {
     "name": "stdout",
     "output_type": "stream",
     "text": [
      "I love python\n"
     ]
    }
   ],
   "source": [
    "def build_sentance(word1, word2, word3):\n",
    "    sentance = \" \".join([word1, word2, word3])\n",
    "    return sentance\n",
    "\n",
    "print(build_sentance(\"I\", \"love\", \"python\"))"
   ]
  },
  {
   "cell_type": "markdown",
   "metadata": {},
   "source": [
    "Or we can do something like this."
   ]
  },
  {
   "cell_type": "code",
   "execution_count": 9,
   "metadata": {},
   "outputs": [
    {
     "name": "stdout",
     "output_type": "stream",
     "text": [
      "I love python\n"
     ]
    }
   ],
   "source": [
    "def build_sentance(word1, word2, word3):\n",
    "    sentance = \" \".join([word1, word2, word3])\n",
    "    return sentance\n",
    "\n",
    "full_sentance = build_sentance(word2 = \"love\", word3 = \"python\", word1 = \"I\")\n",
    "\n",
    "print(full_sentance)"
   ]
  },
  {
   "cell_type": "markdown",
   "metadata": {},
   "source": [
    "We can set default parameters for functions."
   ]
  },
  {
   "cell_type": "code",
   "execution_count": 1,
   "metadata": {},
   "outputs": [
    {
     "name": "stdout",
     "output_type": "stream",
     "text": [
      "I love python\n",
      "Joe loves C++\n"
     ]
    }
   ],
   "source": [
    "def build_sentance(word1, word2, word3 = \"python\"):\n",
    "    sentance = \" \".join([word1, word2, word3])\n",
    "    return sentance\n",
    "\n",
    "print(build_sentance(\"I\", \"love\"))\n",
    "\n",
    "print(build_sentance(\"Joe\", \"loves\", \"C++\"))"
   ]
  },
  {
   "cell_type": "markdown",
   "metadata": {},
   "source": [
    "If we don't send any value for the last parameter `word3` the value of `word3` will remain `\"python\"`, as we did it on the first call. And if we send value, value of `word3` will be changed to that, as we did it on the second call. Now, we cannot write something like this:"
   ]
  },
  {
   "cell_type": "code",
   "execution_count": 3,
   "metadata": {},
   "outputs": [
    {
     "ename": "SyntaxError",
     "evalue": "parameter without a default follows parameter with a default (1548259663.py, line 1)",
     "output_type": "error",
     "traceback": [
      "\u001b[1;36m  Cell \u001b[1;32mIn[3], line 1\u001b[1;36m\u001b[0m\n\u001b[1;33m    def build_sentance(word1, word2 = \"loves\", word3):\u001b[0m\n\u001b[1;37m                                               ^\u001b[0m\n\u001b[1;31mSyntaxError\u001b[0m\u001b[1;31m:\u001b[0m parameter without a default follows parameter with a default\n"
     ]
    }
   ],
   "source": [
    "def build_sentance(word1, word2 = \"loves\", word3):\n",
    "    sentance = \" \".join([word1, word2, word3])\n",
    "    return sentance\n",
    "\n",
    "print(build_sentance(\"Joe\", \"python\"))"
   ]
  },
  {
   "cell_type": "markdown",
   "metadata": {},
   "source": [
    "Default parameters needed be to set from the last parameter."
   ]
  },
  {
   "cell_type": "code",
   "execution_count": 4,
   "metadata": {},
   "outputs": [
    {
     "name": "stdout",
     "output_type": "stream",
     "text": [
      "Joe loves C++\n",
      "I love python\n",
      "Hasbulla hates java\n"
     ]
    }
   ],
   "source": [
    "def build_sentance(word1, word3, word2 = \"loves\"):\n",
    "    sentance = \" \".join([word1, word2, word3])\n",
    "    return sentance\n",
    "\n",
    "print(build_sentance(\"Joe\", \"C++\"))\n",
    "print(build_sentance(\"I\", \"python\", \"love\"))\n",
    "print(build_sentance(word1 = \"Hasbulla\", word2 = \"hates\", word3 = \"java\"))"
   ]
  },
  {
   "cell_type": "markdown",
   "metadata": {},
   "source": [
    "We can also set multiple default parameters."
   ]
  },
  {
   "cell_type": "code",
   "execution_count": 5,
   "metadata": {},
   "outputs": [
    {
     "name": "stdout",
     "output_type": "stream",
     "text": [
      "I love python\n",
      "Joe loves python\n",
      "Hasbulla loves C++\n"
     ]
    }
   ],
   "source": [
    "def build_sentance(word1, word2 = \"loves\", word3 = \"python\"):\n",
    "    sentance = \" \".join([word1, word2, word3])\n",
    "    return sentance\n",
    "\n",
    "print(build_sentance(\"I\", \"love\"))\n",
    "print(build_sentance(\"Joe\"))\n",
    "print(build_sentance(\"Hasbulla\", \"loves\", \"C++\"))"
   ]
  },
  {
   "cell_type": "markdown",
   "metadata": {},
   "source": [
    "**Pass by value**"
   ]
  },
  {
   "cell_type": "code",
   "execution_count": 8,
   "metadata": {},
   "outputs": [
    {
     "name": "stdout",
     "output_type": "stream",
     "text": [
      "inside function\n",
      "a =  20 , b =  10\n",
      "outside function\n",
      "a =  10 , b =  20\n"
     ]
    }
   ],
   "source": [
    "def swap(a, b):\n",
    "    print(\"inside function\")\n",
    "    a, b = b, a\n",
    "    print(\"a = \", a, \", b = \", b)\n",
    "\n",
    "a = 10\n",
    "b = 20\n",
    "\n",
    "swap(a, b)\n",
    "print(\"outside function\")\n",
    "print(\"a = \", a, \", b = \", b)"
   ]
  },
  {
   "cell_type": "markdown",
   "metadata": {},
   "source": [
    "Observation: Values aren't getting swapped. \n",
    "Because when we send values for parameters, the values just gets copied to function parameters. And if we change the values of the parameters, it won't change the values of the variables outside the function."
   ]
  },
  {
   "cell_type": "markdown",
   "metadata": {},
   "source": [
    "**Pass by referance**"
   ]
  },
  {
   "cell_type": "code",
   "execution_count": 10,
   "metadata": {},
   "outputs": [
    {
     "name": "stdout",
     "output_type": "stream",
     "text": [
      "inside function\n",
      "[20, 10]\n"
     ]
    }
   ],
   "source": [
    "def swap(li):\n",
    "    print(\"inside function\")\n",
    "    li[0], li[1] = li[1], li[0]\n",
    "\n",
    "li1 = [10, 20]\n",
    "\n",
    "swap(li1)\n",
    "\n",
    "print(li1)"
   ]
  },
  {
   "cell_type": "markdown",
   "metadata": {},
   "source": [
    "When we send objects, lists or strings as parameters, they don't just get copied rather there referance is sent. So that, if the values of the parameters gets changed, the value of the original list, string or object also gets changed."
   ]
  },
  {
   "cell_type": "markdown",
   "metadata": {},
   "source": [
    "**Lambda Function**"
   ]
  },
  {
   "cell_type": "markdown",
   "metadata": {},
   "source": [
    "`lambda` functions contain only one expression but multiple parameters. It can be defined in one line and shortens code so much."
   ]
  },
  {
   "cell_type": "code",
   "execution_count": 11,
   "metadata": {},
   "outputs": [
    {
     "name": "stdout",
     "output_type": "stream",
     "text": [
      "60\n"
     ]
    }
   ],
   "source": [
    "multiply = lambda x, y : x * y\n",
    "\n",
    "print(multiply(5, 12))"
   ]
  },
  {
   "cell_type": "code",
   "execution_count": 14,
   "metadata": {},
   "outputs": [
    {
     "name": "stdout",
     "output_type": "stream",
     "text": [
      "False\n"
     ]
    }
   ],
   "source": [
    "age_check = lambda age : True if age >= 18 else False\n",
    "\n",
    "print(age_check(12))"
   ]
  },
  {
   "cell_type": "code",
   "execution_count": 18,
   "metadata": {},
   "outputs": [
    {
     "name": "stdout",
     "output_type": "stream",
     "text": [
      "[1, 2, 3]\n"
     ]
    }
   ],
   "source": [
    "lst = [1, 2, 3]\n",
    "\n",
    "print_list = lambda li: print(li)\n",
    "\n",
    "print_list(lst)"
   ]
  },
  {
   "cell_type": "markdown",
   "metadata": {},
   "source": [
    "**Celcius to Farenheit Converter Program**"
   ]
  },
  {
   "cell_type": "code",
   "execution_count": 19,
   "metadata": {},
   "outputs": [
    {
     "name": "stdout",
     "output_type": "stream",
     "text": [
      "231.8\n"
     ]
    }
   ],
   "source": [
    "celcius_to_farenheit = lambda c : (9.0 / 5.0) * c + 32.0\n",
    "\n",
    "print(celcius_to_farenheit(111))"
   ]
  },
  {
   "cell_type": "markdown",
   "metadata": {},
   "source": [
    "**Alphabet Counter Program**"
   ]
  },
  {
   "cell_type": "code",
   "execution_count": 21,
   "metadata": {},
   "outputs": [
    {
     "name": "stdout",
     "output_type": "stream",
     "text": [
      "a : 2\n",
      "b : 1\n",
      "c : 1\n",
      "d : 2\n",
      "e : 3\n",
      "f : 1\n",
      "g : 1\n",
      "h : 1\n",
      "i : 1\n",
      "j : 1\n",
      "k : 1\n",
      "l : 1\n",
      "m : 1\n",
      "n : 1\n",
      "o : 4\n",
      "p : 1\n",
      "q : 1\n",
      "r : 2\n",
      "s : 1\n",
      "t : 1\n",
      "u : 2\n",
      "v : 1\n",
      "w : 1\n",
      "x : 1\n",
      "y : 1\n",
      "z : 1\n"
     ]
    }
   ],
   "source": [
    "def alphabet_counter(sentance):\n",
    "    alphabets = \"abcdefghijklmnopqrstuvwxyz\"\n",
    "    for a in alphabets:\n",
    "        print(a, \":\", sentance.count(a))\n",
    "\n",
    "alphabet_counter(\"a quick brown fox jumped over the lazy dogs\")"
   ]
  }
 ],
 "metadata": {
  "kernelspec": {
   "display_name": "base",
   "language": "python",
   "name": "python3"
  },
  "language_info": {
   "codemirror_mode": {
    "name": "ipython",
    "version": 3
   },
   "file_extension": ".py",
   "mimetype": "text/x-python",
   "name": "python",
   "nbconvert_exporter": "python",
   "pygments_lexer": "ipython3",
   "version": "3.12.4"
  }
 },
 "nbformat": 4,
 "nbformat_minor": 2
}
